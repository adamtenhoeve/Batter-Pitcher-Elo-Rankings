{
 "cells": [
  {
   "cell_type": "markdown",
   "metadata": {},
   "source": [
    "**CSCI 4831: Sabermetrics Final Project**  \n",
    "Name: Adam Ten Hoeve"
   ]
  },
  {
   "cell_type": "markdown",
   "metadata": {},
   "source": [
    "https://github.com/aaronaaeng/Sabermetrics-Final-Project"
   ]
  },
  {
   "cell_type": "code",
   "execution_count": 1,
   "metadata": {},
   "outputs": [],
   "source": [
    "import numpy as np\n",
    "import pandas as pd\n",
    "import matplotlib.pyplot as plt\n",
    "%matplotlib inline"
   ]
  },
  {
   "cell_type": "code",
   "execution_count": 2,
   "metadata": {},
   "outputs": [],
   "source": [
    "# Read in all of the statcast data\n",
    "# df2016 = pd.read_csv(\"2016/data2016.csv\")\n",
    "\n",
    "# april2017 = pd.read_csv(\"2017/dataApril2017.csv\")\n",
    "# may2017 = pd.read_csv(\"2017/dataMay2017.csv\")\n",
    "# june2017 = pd.read_csv(\"2017/dataJune2017.csv\")\n",
    "# july2017 = pd.read_csv(\"2017/dataJuly2017.csv\")\n",
    "# aug2017 = pd.read_csv(\"2017/dataAug2017.csv\")\n",
    "# sept2017 = pd.read_csv(\"2017/dataSept2017.csv\")\n",
    "# oct2017 = pd.read_csv(\"2017/dataOct2017.csv\")\n",
    "\n",
    "april2018 = pd.read_csv(\"2018/dataApril2018.csv\")\n",
    "# may2018 = pd.read_csv(\"2018/dataMay2018.csv\")\n",
    "# june2018 = pd.read_csv(\"2018/dataJune2018.csv\")\n",
    "# july2018 = pd.read_csv(\"2018/dataJuly2018.csv\")\n",
    "# aug2018 = pd.read_csv(\"2018/dataAug2018.csv\")\n",
    "# sept2018 = pd.read_csv(\"2018/dataSept2018.csv\")\n",
    "# oct2018 = pd.read_csv(\"2018/dataOct2018.csv\")\n",
    "\n",
    "# df2017 = pd.concat([april2017, may2017, june2017, july2017, aug2017, sept2017, oct2017])\n",
    "# df2018 = pd.concat([april2018, may2018, june2018, july2018, aug2018, sept2018, oct2018])\n",
    "\n",
    "# dfTotal = pd.concat([df2016, df2017, df2018])\n",
    "dfTotal = april2018.copy()"
   ]
  },
  {
   "cell_type": "code",
   "execution_count": 3,
   "metadata": {},
   "outputs": [],
   "source": [
    "# Clean the data. \n",
    "# Group by pitcher. Get rid of anyone who pitched less than 100 times in the three years.\n",
    "dfTempPitch = dfTotal.groupby(\"player_name\", as_index = False).count()\n",
    "dfTempPitch = dfTempPitch.loc[dfTempPitch[\"index\"] > 100]\n",
    "# Then group by batter to get rid of any batters who batted less than 100 times.\n",
    "dfTempBat = dfTotal.groupby(\"batter\", as_index = False).count()\n",
    "dfTempBat = dfTempBat.loc[dfTempBat[\"index\"] > 100]\n",
    "\n",
    "# Create a database of pitchers \n",
    "dfPitchers = pd.merge(dfTotal, dfTempPitch[[\"player_name\"]], on = \"player_name\", how = \"inner\")\n",
    "# Create a database of batters\n",
    "dfBatters = pd.merge(dfTotal, dfTempBat[[\"batter\"]], on = \"batter\", how = \"inner\")\n",
    "\n",
    "# Create a final dataframe of the cleaned batter and pitcher data\n",
    "dfFinal = pd.merge(dfPitchers, dfBatters[[\"index\", \"pitcher\", \"batter\", \"release_speed\", \"strikes\", \"balls\"]], on = [\"index\", \"pitcher\", \"batter\", \"release_speed\", \"strikes\", \"balls\"], how = \"inner\")"
   ]
  },
  {
   "cell_type": "code",
   "execution_count": 4,
   "metadata": {},
   "outputs": [],
   "source": [
    "# A list of events of the batter either striking out or hitting the ball into play.\n",
    "events = [\"strikeout\", \"strikeout_double_play\", \"single\", \"double\", \"triple\", \"home_run\", \"sac_bunt\", \"sac_fly\", \"field_out\", \"field_error\", \"double_play\", \"grounded_into_double_play\", \"sac_fly_double_play\", \"triple_play\", \"walk\", \"hit_by_pitch\"]\n",
    "# Get rid of all the rows of data that don't have one of the events listed.\n",
    "Outcomes = dfFinal.loc[dfFinal[\"events\"].isin(events)]"
   ]
  },
  {
   "cell_type": "code",
   "execution_count": 5,
   "metadata": {},
   "outputs": [
    {
     "data": {
      "text/html": [
       "<div>\n",
       "<style scoped>\n",
       "    .dataframe tbody tr th:only-of-type {\n",
       "        vertical-align: middle;\n",
       "    }\n",
       "\n",
       "    .dataframe tbody tr th {\n",
       "        vertical-align: top;\n",
       "    }\n",
       "\n",
       "    .dataframe thead th {\n",
       "        text-align: right;\n",
       "    }\n",
       "</style>\n",
       "<table border=\"1\" class=\"dataframe\">\n",
       "  <thead>\n",
       "    <tr style=\"text-align: right;\">\n",
       "      <th></th>\n",
       "      <th>events</th>\n",
       "      <th>index</th>\n",
       "      <th>proportion</th>\n",
       "    </tr>\n",
       "  </thead>\n",
       "  <tbody>\n",
       "    <tr>\n",
       "      <th>0</th>\n",
       "      <td>double</td>\n",
       "      <td>1194</td>\n",
       "      <td>0.047000</td>\n",
       "    </tr>\n",
       "    <tr>\n",
       "      <th>1</th>\n",
       "      <td>double_play</td>\n",
       "      <td>60</td>\n",
       "      <td>0.002362</td>\n",
       "    </tr>\n",
       "    <tr>\n",
       "      <th>2</th>\n",
       "      <td>field_error</td>\n",
       "      <td>228</td>\n",
       "      <td>0.008975</td>\n",
       "    </tr>\n",
       "    <tr>\n",
       "      <th>3</th>\n",
       "      <td>field_out</td>\n",
       "      <td>10343</td>\n",
       "      <td>0.407141</td>\n",
       "    </tr>\n",
       "    <tr>\n",
       "      <th>4</th>\n",
       "      <td>grounded_into_double_play</td>\n",
       "      <td>478</td>\n",
       "      <td>0.018816</td>\n",
       "    </tr>\n",
       "    <tr>\n",
       "      <th>5</th>\n",
       "      <td>hit_by_pitch</td>\n",
       "      <td>305</td>\n",
       "      <td>0.012006</td>\n",
       "    </tr>\n",
       "    <tr>\n",
       "      <th>6</th>\n",
       "      <td>home_run</td>\n",
       "      <td>750</td>\n",
       "      <td>0.029523</td>\n",
       "    </tr>\n",
       "    <tr>\n",
       "      <th>7</th>\n",
       "      <td>sac_bunt</td>\n",
       "      <td>55</td>\n",
       "      <td>0.002165</td>\n",
       "    </tr>\n",
       "    <tr>\n",
       "      <th>8</th>\n",
       "      <td>sac_fly</td>\n",
       "      <td>188</td>\n",
       "      <td>0.007400</td>\n",
       "    </tr>\n",
       "    <tr>\n",
       "      <th>9</th>\n",
       "      <td>sac_fly_double_play</td>\n",
       "      <td>3</td>\n",
       "      <td>0.000118</td>\n",
       "    </tr>\n",
       "    <tr>\n",
       "      <th>10</th>\n",
       "      <td>single</td>\n",
       "      <td>3700</td>\n",
       "      <td>0.145646</td>\n",
       "    </tr>\n",
       "    <tr>\n",
       "      <th>11</th>\n",
       "      <td>strikeout</td>\n",
       "      <td>5723</td>\n",
       "      <td>0.225279</td>\n",
       "    </tr>\n",
       "    <tr>\n",
       "      <th>12</th>\n",
       "      <td>strikeout_double_play</td>\n",
       "      <td>22</td>\n",
       "      <td>0.000866</td>\n",
       "    </tr>\n",
       "    <tr>\n",
       "      <th>13</th>\n",
       "      <td>triple</td>\n",
       "      <td>115</td>\n",
       "      <td>0.004527</td>\n",
       "    </tr>\n",
       "    <tr>\n",
       "      <th>14</th>\n",
       "      <td>triple_play</td>\n",
       "      <td>1</td>\n",
       "      <td>0.000039</td>\n",
       "    </tr>\n",
       "    <tr>\n",
       "      <th>15</th>\n",
       "      <td>walk</td>\n",
       "      <td>2239</td>\n",
       "      <td>0.088136</td>\n",
       "    </tr>\n",
       "  </tbody>\n",
       "</table>\n",
       "</div>"
      ],
      "text/plain": [
       "                       events  index  proportion\n",
       "0                      double   1194    0.047000\n",
       "1                 double_play     60    0.002362\n",
       "2                 field_error    228    0.008975\n",
       "3                   field_out  10343    0.407141\n",
       "4   grounded_into_double_play    478    0.018816\n",
       "5                hit_by_pitch    305    0.012006\n",
       "6                    home_run    750    0.029523\n",
       "7                    sac_bunt     55    0.002165\n",
       "8                     sac_fly    188    0.007400\n",
       "9         sac_fly_double_play      3    0.000118\n",
       "10                     single   3700    0.145646\n",
       "11                  strikeout   5723    0.225279\n",
       "12      strikeout_double_play     22    0.000866\n",
       "13                     triple    115    0.004527\n",
       "14                triple_play      1    0.000039\n",
       "15                       walk   2239    0.088136"
      ]
     },
     "execution_count": 5,
     "metadata": {},
     "output_type": "execute_result"
    }
   ],
   "source": [
    "# Calculate the proportion of each type of event. Will be used to calculate the weight of certain outcomes.\n",
    "OutcomesProp = Outcomes.groupby(\"events\", as_index = False).count()\n",
    "numEvents = len(Outcomes)\n",
    "OutcomesProp[\"proportion\"] = OutcomesProp[\"index\"] / numEvents\n",
    "OutcomesProp = OutcomesProp[[\"events\", \"index\", \"proportion\"]]\n",
    "OutcomesProp"
   ]
  },
  {
   "cell_type": "code",
   "execution_count": 6,
   "metadata": {},
   "outputs": [],
   "source": [
    "# Create a dictionary of all batters and pitchers\n",
    "batterElos = {}\n",
    "pitcherElos = {}\n",
    "\n",
    "# ids = list(Outcomes[\"pitcher\"].unique()) + list(Outcomes[\"batter\"].unique())\n",
    "for id in list(Outcomes[\"pitcher\"].unique()):\n",
    "    pitcherElos[id] = 1000\n",
    "for id in list(Outcomes[\"batter\"].unique()):\n",
    "    batterElos[id] = 1000\n",
    "    \n",
    "# Create a list of pitcher-favored outcomes.\n",
    "pitcherFavored = [\"strikeout\", \"strikeout_double_play\", \"field_out\", \"double_play\", \"grounded_into_double_play\", \"sac_fly_double_play\", \"triple_play\"]\n",
    "# Create a list of batter favored outcomes, meaning they did not get out by the end of the play.\n",
    "batterFavored = [\"single\", \"double\", \"triple\", \"home_run\", \"field_error\", \"walk\", \"hit_by_pitch\", \"sac_bunt\", \"sac_fly\"]"
   ]
  },
  {
   "cell_type": "code",
   "execution_count": 7,
   "metadata": {},
   "outputs": [
    {
     "data": {
      "text/plain": [
       "0.34537868052275233"
      ]
     },
     "execution_count": 7,
     "metadata": {},
     "output_type": "execute_result"
    }
   ],
   "source": [
    "def PercentOnBase(row):\n",
    "    if row[\"events\"] in batterFavored:\n",
    "        return 1\n",
    "    return 0\n",
    "\n",
    "# Find how often batters get on base\n",
    "total = len(Outcomes)\n",
    "\n",
    "np.sum(Outcomes.apply(PercentOnBase, axis = 1)) / total"
   ]
  },
  {
   "cell_type": "code",
   "execution_count": 13,
   "metadata": {},
   "outputs": [
    {
     "data": {
      "text/plain": [
       "array(['field_out', 'double', 'single', 'strikeout', 'walk',\n",
       "       'hit_by_pitch', 'grounded_into_double_play', 'field_error',\n",
       "       'triple', 'sac_fly', 'home_run', 'strikeout_double_play',\n",
       "       'double_play', 'sac_bunt', 'sac_fly_double_play', 'triple_play'],\n",
       "      dtype=object)"
      ]
     },
     "execution_count": 13,
     "metadata": {},
     "output_type": "execute_result"
    }
   ],
   "source": [
    "Outcomes[\"events\"].unique()"
   ]
  },
  {
   "cell_type": "code",
   "execution_count": 19,
   "metadata": {},
   "outputs": [],
   "source": [
    "# Determines the weight on the elo based on the type of event.\n",
    "# Used to balance the proportion of pitcher-wins to batter-wins.\n",
    "# Otherwise pitchers win about 70% of the time and dominate the scores\n",
    "events = [\"strikeout\", \"strikeout_double_play\", \"single\", \"double\", \"triple\", \"home_run\", \"sac_bunt\", \"sac_fly\", \"field_out\", \"field_error\", \"double_play\", \"grounded_into_double_play\", \"sac_fly_double_play\", \"triple_play\", \"walk\", \"hit_by_pitch\"]\n",
    "def EloEventWeight(event):\n",
    "    # If that event occured\n",
    "    if event == \"strikeout\":\n",
    "        # Return the prob of that event times the assigned weight based on impact\n",
    "        # All weights have are *2 what they normally are to speed up processing by preventing floating point arithmetic.\n",
    "        return OutcomesProp.loc[OutcomesProp[\"events\"] == \"strikeout\"][\"proportion\"] * 2\n",
    "    elif event == \"field_out\":\n",
    "        return OutcomesProp.loc[OutcomesProp[\"events\"] == \"field_out\"][\"proportion\"] * 1\n",
    "    elif event == \"double_play\":\n",
    "        return OutcomesProp.loc[OutcomesProp[\"events\"] == \"double_play\"][\"proportion\"] * 4\n",
    "    elif event == \"grounded_into_double_play\":\n",
    "        return OutcomesProp.loc[OutcomesProp[\"events\"] == \"grounded_into_double_play\"][\"proportion\"] * 4\n",
    "    elif event == \"strikeout_double_play\":\n",
    "        return OutcomesProp.loc[OutcomesProp[\"events\"] == \"strikeout_double_play\"][\"proportion\"] * 4\n",
    "    elif event == \"triple_play\":\n",
    "        return OutcomesProp.loc[OutcomesProp[\"events\"] == \"triple_play\"][\"proportion\"] * 6\n",
    "    elif event == \"sac_fly_double_play\":\n",
    "        return OutcomesProp.loc[OutcomesProp[\"events\"] == \"sac_fly_double_play\"][\"proportion\"] * 2\n",
    "    elif event == \"single\":\n",
    "        return OutcomesProp.loc[OutcomesProp[\"events\"] == \"single\"][\"proportion\"] * 2\n",
    "    elif event == \"double\":\n",
    "        return OutcomesProp.loc[OutcomesProp[\"events\"] == \"double\"][\"proportion\"] * 4\n",
    "    elif event == \"triple\":\n",
    "        return OutcomesProp.loc[OutcomesProp[\"events\"] == \"triple\"][\"proportion\"] * 6\n",
    "    elif event == \"home_run\":\n",
    "        return OutcomesProp.loc[OutcomesProp[\"events\"] == \"home_run\"][\"proportion\"] * 8\n",
    "    elif event == \"sac_bunt\":\n",
    "        return OutcomesProp.loc[OutcomesProp[\"events\"] == \"sac_bunt\"][\"proportion\"] * 2\n",
    "    elif event == \"sac_fly\":\n",
    "        return OutcomesProp.loc[OutcomesProp[\"events\"] == \"sac_fly\"][\"proportion\"] * 2\n",
    "    elif event == \"field_error\":\n",
    "        return OutcomesProp.loc[OutcomesProp[\"events\"] == \"field_error\"][\"proportion\"] * 2\n",
    "    elif event == \"walk\":\n",
    "        return OutcomesProp.loc[OutcomesProp[\"events\"] == \"walk\"][\"proportion\"] * 2\n",
    "    elif event == \"hit_by_pitch\":\n",
    "        return OutcomesProp.loc[OutcomesProp[\"events\"] == \"hit_by_pitch\"][\"proportion\"] * 2\n",
    "    else:\n",
    "        print(event)\n",
    "        return 0.5"
   ]
  },
  {
   "cell_type": "code",
   "execution_count": 20,
   "metadata": {},
   "outputs": [],
   "source": [
    "# Create a function to calculate the probability a pitcher wins the matchup\n",
    "def ProbPitcherWins(pitcher, batter):\n",
    "    # Get ranking of pitcher\n",
    "    pitcherRank = pitcherElos[pitcher]\n",
    "    # Get ranking of batter\n",
    "    batterRank = batterElos[batter]\n",
    "    # From elo rankings. Assumes a difference of 400 is the same as 1 player being 10 times as likely to win\n",
    "    probPitcherWins = 1 / (1 + 10**((pitcherRank -  batterRank)/400))\n",
    "    return probPitcherWins"
   ]
  },
  {
   "cell_type": "code",
   "execution_count": 21,
   "metadata": {},
   "outputs": [],
   "source": [
    "# Create a function to update the scores of players based on the results of pitches\n",
    "def UpdateElo(row):\n",
    "    # Get the probability that the pitcher wins from the function above\n",
    "    prob = ProbPitcherWins(row[\"pitcher\"], row[\"batter\"])\n",
    "    # Update the ratings based on the outcome of the pitch\n",
    "    # If pitcher \"wins\" the matchup\n",
    "    if row[\"events\"] in pitcherFavored:\n",
    "        # Largest possible change in score is 32.\n",
    "        # Shown 16 here because *2 in weight function to prevent float multiplication.\n",
    "        pitcherElos[row[\"pitcher\"]] = int(pitcherElos[row[\"pitcher\"]] + (16 * EloEventWeight(row[\"events\"]) * (1 - prob)))\n",
    "        batterElos[row[\"batter\"]] = int(batterElos[row[\"batter\"]] + (16 * EloEventWeight(row[\"events\"]) * (prob - 1)))\n",
    "    # If the batter wins the matchup\n",
    "    else:\n",
    "        pitcherElos[row[\"pitcher\"]] = int(pitcherElos[row[\"pitcher\"]] + (16 * EloEventWeight(row[\"events\"]) * (prob - 1)))\n",
    "        batterElos[row[\"batter\"]] = int(batterElos[row[\"batter\"]] + (16 * EloEventWeight(row[\"events\"]) * (1 - prob)))"
   ]
  },
  {
   "cell_type": "code",
   "execution_count": 22,
   "metadata": {},
   "outputs": [],
   "source": [
    "Outcomes.apply(UpdateElo, axis = 1);"
   ]
  },
  {
   "cell_type": "code",
   "execution_count": 23,
   "metadata": {},
   "outputs": [
    {
     "name": "stdout",
     "output_type": "stream",
     "text": [
      "[399, 176, 265, 37, 424, -104, 445, -173, 709, 493, 655, 288, 129, 146, -35, 305, 413, 337, -8, 765, 228, 709, -30, -32, 90, -312, -77, -26, 348, -141, 84, 357, 649, 756, 89, 250, 435, 77, 452, 322, 140, 103, 76, 377, 475, 134, 758, 181, 462, -31, 440, 774, 389, 65, 500, -17, -230, -3, 262, 315, 359, 529, 572, 396, 525, 337, 559, -33, -206, 437, 250, 613, 210, 58, 207, 409, 51, 568, 88, 277, -19, 620, 697, 679, 258, 450, 130, 360, 0, 450, 198, 537, 653, 154, 17, 519, 204, 81, 385, 594, 6, 716, 9, 145, 435, 316, 544, 431, 172, 146, 295, -20, -84, 737, 764, 377, 101, 719, 274, 106, 794, 717, 86, -194, 421, 895, 482, 308, 411, 272, 128, -20, 526, 475, 497, 30, 97, 213, -180, 512, 513, 602, 385, 432, 260, 460, 827, 346, -65, 184, 542, -20, 755, 670, 201, 356, -192, -98, 550, 24, 32, 346, 747, 849, 244, 701, 681, -62, 203, 636, 490, 278, 127, -168, 98, 450, -29, 768, 683, 254, 593, 386, -21, 288, 387, 231, 387, 696, 308, 277, 262, 711, 245, 177, 124, -6, 284, -87, 41, -43, 290, 630, 707, 417, 422, -65, 593, 674, 464, 700, 159, 447, 353, 83, 380, 346, 477, 682, 476, 301, 321, 599, 369, 151, 234, 88, 641, -24, 15, 493, 181, -73, 230, 146, 158, 200, 238, 93, 387, 112, 315, 667, 295, 202, 193, 175, 251, 374, 375, 286, -82, 322, 383, 110, 484, 630, -285, 180, -10, 500, -10, 416, 516, -162, 48, 243, 755, 659, 681, 514, 573, 625, 203, -182, 206, 684, 531, -139, 726, 281, 507, 102, 281, 131, 552, 507, -127, 699, 416, 225, 562, 700, 823, 770, 592, 570, 165, 260, 383, 775, 119, 513, 307, 30, 358, 719, 693, 19, -159, 673, 245, 51, 56, 264, 2, 142, -22, 486, 2, 526, 288, -25, -109, 673, 130, 278, 248, 23, 624, 185, 638, 749, 691, 645, 109, 292, 398, -39, 86, 457, 335, 64, 379, 680, 731, 630, 646, 422, 689, 177, 265, 665, 571, 545, 684, 721, 733, 789, 372, 404, 104, 96, 558, 557, 148, 934, 865, 758, 644]\n"
     ]
    }
   ],
   "source": [
    "print(list(batterElos.values()))"
   ]
  },
  {
   "cell_type": "code",
   "execution_count": 24,
   "metadata": {},
   "outputs": [
    {
     "name": "stdout",
     "output_type": "stream",
     "text": [
      "[1194, 1320, 1399, 1339, 1259, 1337, 1754, 1381, 1294, 1199, 1223, 1366, 1206, 1035, 2325, 1908, 1340, 1161, 1138, 1209, 1801, 1325, 1535, 1271, 1367, 1342, 1174, 1349, 1422, 1041, 1220, 1334, 1146, 1254, 1174, 1982, 1817, 1209, 1354, 1322, 1257, 1179, 1283, 1649, 1344, 1200, 1298, 1379, 2226, 1201, 1575, 1617, 1385, 1319, 1193, 1327, 1290, 1327, 1273, 1638, 1112, 1270, 1347, 1430, 1219, 1236, 1362, 1834, 1419, 1415, 1244, 1567, 1192, 2112, 1739, 1196, 1152, 1529, 1232, 1804, 2020, 1325, 1267, 1164, 1982, 1158, 1305, 1192, 2329, 1146, 1101, 1371, 1337, 1095, 1338, 1217, 1684, 1535, 1174, 1365, 1274, 1302, 1241, 1623, 1390, 1210, 1352, 1301, 1575, 1184, 2622, 1357, 1323, 1343, 1385, 1730, 1765, 1518, 1217, 1254, 1411, 1194, 1513, 1504, 1439, 1318, 1252, 1479, 1288, 1641, 1841, 1415, 1211, 1230, 1262, 1545, 1461, 1336, 1442, 1287, 1237, 1946, 1355, 1398, 1185, 1348, 2063, 1582, 1286, 1826, 1156, 2159, 1055, 1260, 1109, 1192, 1197, 1200, 1522, 1751, 1138, 1357, 1220, 1192, 1021, 1564, 1733, 1512, 1184, 1349, 1778, 1399, 1548, 1252, 1312, 2043, 1295, 1552, 1266, 1307, 1515, 1647, 1659, 1178, 1255, 1149, 1233, 1121, 1991, 1287, 1426, 1311, 1314, 1850, 2133, 1236, 1260, 1266, 1846, 1090, 1136, 1746, 1190, 1342, 1283, 1395, 1965, 1688, 1458, 1391, 1086, 1333, 1768, 1291, 1593, 1557, 1775, 1762, 1443, 1146, 1927, 1516, 1801, 1075, 1518, 1096, 1154, 1204, 1303, 1173, 1787, 1687, 1360, 1187, 1615, 1125, 1380, 1385, 1247, 1393, 1425, 1155, 1801, 1697, 1208, 2318, 1236, 1401, 1166, 1106, 1249, 1229, 988, 1838, 1357, 1746, 1826, 1580, 1979, 1197, 1228, 1329, 1351, 1456, 2029, 1548, 2485, 1370, 1036, 1268, 1395, 2381, 1962, 1551, 1325, 2188, 1253, 1388, 1321, 1902, 1544, 1397, 1647, 1579, 2054, 1602, 1478, 1512, 1710, 1332, 1231, 1751, 1189, 1676, 1149, 1557, 1337, 1060, 1289, 1126, 1971, 1813, 1313, 1953, 1620, 2086, 1605, 1617, 1283, 1886, 1930, 1864, 1854, 1860, 1324, 1654, 1729, 1783, 1776, 2006, 1785, 1437, 2105, 1972, 1544, 1634, 1859, 1439, 1381, 1054, 2221, 1038, 1743, 1569, 1740, 1926, 1252, 1454, 1294, 1581, 1519, 1221, 1169, 1701, 2102, 2397, 1440, 1056, 1033, 1281, 1460, 1343, 1494, 1752, 1341, 1272, 1664, 1541, 1635, 1068, 1172, 972, 1672, 1209, 1294, 1146, 1261, 1206, 996, 1276, 1216, 1282, 1227, 1132, 1131, 1063, 1301, 1369, 1088, 1234, 1105, 1302, 1122, 1356, 1333, 1301, 1037, 1361, 1170, 1165, 1163, 1139]\n"
     ]
    }
   ],
   "source": [
    "print(list(pitcherElos.values()))"
   ]
  },
  {
   "cell_type": "code",
   "execution_count": 14,
   "metadata": {},
   "outputs": [],
   "source": [
    "# Create dictionaries to convert player names and ids\n",
    "IDtoName = {}\n",
    "NametoID = {}\n",
    "# Get all the unique players\n",
    "temp = Outcomes[[\"player_name\", \"pitcher\"]].groupby(by = \"pitcher\", as_index = False).first()\n",
    "\n",
    "for i in range(len(temp)):\n",
    "    IDtoName[temp[\"pitcher\"].iloc[i]] = temp[\"player_name\"].iloc[i]\n",
    "    NametoID[temp[\"player_name\"].iloc[i]] = temp[\"pitcher\"].iloc[i]"
   ]
  },
  {
   "cell_type": "code",
   "execution_count": 13,
   "metadata": {},
   "outputs": [],
   "source": [
    "# Create a dictionary to convert the player ID's to names\n",
    "def PlayerIDtoName(id):\n",
    "    return(IDtoName[id])\n",
    "\n",
    "# Create a function to convert player's name to ID\n",
    "def PlayerNametoID(name):\n",
    "    return(NametoID[name])"
   ]
  },
  {
   "cell_type": "code",
   "execution_count": null,
   "metadata": {},
   "outputs": [],
   "source": [
    "print(\"once\")"
   ]
  },
  {
   "cell_type": "code",
   "execution_count": null,
   "metadata": {},
   "outputs": [],
   "source": []
  }
 ],
 "metadata": {
  "kernelspec": {
   "display_name": "Python 3",
   "language": "python",
   "name": "python3"
  },
  "language_info": {
   "codemirror_mode": {
    "name": "ipython",
    "version": 3
   },
   "file_extension": ".py",
   "mimetype": "text/x-python",
   "name": "python",
   "nbconvert_exporter": "python",
   "pygments_lexer": "ipython3",
   "version": "3.6.3"
  }
 },
 "nbformat": 4,
 "nbformat_minor": 2
}
