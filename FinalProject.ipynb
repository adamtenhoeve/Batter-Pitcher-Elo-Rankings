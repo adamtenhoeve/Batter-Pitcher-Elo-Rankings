{
 "cells": [
  {
   "cell_type": "markdown",
   "metadata": {},
   "source": [
    "**CSCI 4831: Sabermetrics Final Project**  \n",
    "Name: Adam Ten Hoeve"
   ]
  },
  {
   "cell_type": "markdown",
   "metadata": {},
   "source": [
    "https://github.com/aaronaaeng/Sabermetrics-Final-Project"
   ]
  },
  {
   "cell_type": "code",
   "execution_count": null,
   "metadata": {
    "collapsed": true
   },
   "outputs": [],
   "source": [
    "import numpy as np\n",
    "import pandas as pd\n",
    "import matplotlib.pyplot as plt\n",
    "%matplotlib inline"
   ]
  },
  {
   "cell_type": "code",
   "execution_count": null,
   "metadata": {
    "collapsed": true
   },
   "outputs": [],
   "source": [
    "# Read in all of the statcast data\n",
    "# df2016 = pd.read_csv(\"2016/data2016.csv\")\n",
    "\n",
    "# april2017 = pd.read_csv(\"2017/dataApril2017.csv\")\n",
    "# may2017 = pd.read_csv(\"2017/dataMay2017.csv\")\n",
    "# june2017 = pd.read_csv(\"2017/dataJune2017.csv\")\n",
    "# july2017 = pd.read_csv(\"2017/dataJuly2017.csv\")\n",
    "# aug2017 = pd.read_csv(\"2017/dataAug2017.csv\")\n",
    "# sept2017 = pd.read_csv(\"2017/dataSept2017.csv\")\n",
    "# oct2017 = pd.read_csv(\"2017/dataOct2017.csv\")\n",
    "\n",
    "april2018 = pd.read_csv(\"2018/dataApril2018.csv\")\n",
    "# may2018 = pd.read_csv(\"2018/dataMay2018.csv\")\n",
    "# june2018 = pd.read_csv(\"2018/dataJune2018.csv\")\n",
    "# july2018 = pd.read_csv(\"2018/dataJuly2018.csv\")\n",
    "# aug2018 = pd.read_csv(\"2018/dataAug2018.csv\")\n",
    "# sept2018 = pd.read_csv(\"2018/dataSept2018.csv\")\n",
    "# oct2018 = pd.read_csv(\"2018/dataOct2018.csv\")\n",
    "\n",
    "# df2017 = pd.concat([april2017, may2017, june2017, july2017, aug2017, sept2017, oct2017])\n",
    "# df2018 = pd.concat([april2018, may2018, june2018, july2018, aug2018, sept2018, oct2018])\n",
    "\n",
    "# dfTotal = pd.concat([df2016, df2017, df2018])\n",
    "dfTotal = april2018.copy()"
   ]
  },
  {
   "cell_type": "code",
   "execution_count": null,
   "metadata": {
    "collapsed": true
   },
   "outputs": [],
   "source": [
    "# Clean the data. \n",
    "# Group by pitcher. Get rid of anyone who pitched less than 100 times in the three years.\n",
    "dfTempPitch = dfTotal.groupby(\"player_name\", as_index = False).count()\n",
    "dfTempPitch = dfTempPitch.loc[dfTempPitch[\"index\"] > 100]\n",
    "# Then group by batter to get rid of any batters who batted less than 100 times.\n",
    "dfTempBat = dfTotal.groupby(\"batter\", as_index = False).count()\n",
    "dfTempBat = dfTempBat.loc[dfTempBat[\"index\"] > 100]\n",
    "\n",
    "# Create a database of pitchers \n",
    "dfPitchers = pd.merge(dfTotal, dfTempPitch[[\"player_name\"]], on = \"player_name\", how = \"inner\")\n",
    "# Create a database of batters\n",
    "dfBatters = pd.merge(dfTotal, dfTempBat[[\"batter\"]], on = \"batter\", how = \"inner\")\n",
    "\n",
    "# Create a final dataframe of the cleaned batter and pitcher data\n",
    "dfFinal = pd.merge(dfPitchers, dfBatters[[\"index\", \"pitcher\", \"batter\", \"release_speed\", \"strikes\", \"balls\"]], on = [\"index\", \"pitcher\", \"batter\", \"release_speed\", \"strikes\", \"balls\"], how = \"inner\")"
   ]
  },
  {
   "cell_type": "code",
   "execution_count": null,
   "metadata": {
    "collapsed": true
   },
   "outputs": [],
   "source": [
    "# A list of events of the batter either striking out or hitting the ball into play.\n",
    "events = [\"strikeout\", \"strikeout_double_play\", \"single\", \"double\", \"triple\", \"home_run\", \"sac_bunt\", \"sac_fly\", \"field_out\", \"field_error\", \"double_play\", \"grounded_into_double_play\", \"sac_fly_double_play\", \"triple_play\"]\n",
    "# Get rid of all the rows of data that don't have one of the events listed.\n",
    "Outcomes = dfFinal.loc[dfFinal[\"events\"].isin(events)]"
   ]
  },
  {
   "cell_type": "code",
   "execution_count": null,
   "metadata": {
    "collapsed": true
   },
   "outputs": [],
   "source": [
    "# Create dictionaries to convert player names and ids\n",
    "IDtoName = {}\n",
    "NametoID = {}\n",
    "# Get all the unique players\n",
    "temp = Outcomes[[\"player_name\", \"pitcher\"]].groupby(by = \"pitcher\", as_index = False).first()\n",
    "\n",
    "for i in range(len(temp)):\n",
    "    IDtoName[temp[\"pitcher\"].iloc[i]] = temp[\"player_name\"].iloc[i]\n",
    "    NametoID[temp[\"player_name\"].iloc[i]] = temp[\"pitcher\"].iloc[i]"
   ]
  },
  {
   "cell_type": "code",
   "execution_count": null,
   "metadata": {
    "collapsed": true
   },
   "outputs": [],
   "source": [
    "# Create a dictionary of all batters and pitchers\n",
    "batterElos = {}\n",
    "pitcherElos = {}\n",
    "\n",
    "ids = list(Outcomes[\"pitcher\"].unique()) + list(Outcomes[\"batter\"].unique())\n",
    "for id in list(Outcomes[\"pitcher\"].unique()):\n",
    "    pitcherElos[id] = 1000\n",
    "for id in list(Outcomes[\"batter\"].unique()):\n",
    "    batterElos[id] = 1000\n",
    "    \n",
    "# Create a list of pitcher-favored outcomes\n",
    "pitcherFavored = [\"strikeout\", \"strikeout_double_play\"]"
   ]
  },
  {
   "cell_type": "code",
   "execution_count": null,
   "metadata": {
    "collapsed": true
   },
   "outputs": [],
   "source": [
    "# Create a function to calculate the probability a pitcher wins the matchup\n",
    "def ProbPitcherWins(pitcher, batter):\n",
    "    # Get ranking of pitcher\n",
    "    pitcherRank = pitcherElos[pitcher]\n",
    "    # Get ranking of batter\n",
    "    batterRank = batterElos[batter]\n",
    "    # From elo rankings. Assumes a difference of 400 is the same as 1 player being 10 times as likely to win\n",
    "    probPitcherWins = 1 / (1 + 10**((pitcherRank -  batterRank)/400))\n",
    "    return probPitcherWins"
   ]
  },
  {
   "cell_type": "code",
   "execution_count": null,
   "metadata": {
    "collapsed": true
   },
   "outputs": [],
   "source": [
    "# Create a function to update the scores of players based on the results of pitches\n",
    "def UpdateElo(row):\n",
    "    # Get the probability that the pitcher wins from the function above\n",
    "    prob = ProbPitcherWins(row[\"pitcher\"], row[\"batter\"])\n",
    "    # Update the ratings based on the outcome of the pitch\n",
    "    # If pitcher \"wins\" the matchup\n",
    "    if row[\"events\"] in pitcherFavored:\n",
    "        # Largest possible change in score is 32.\n",
    "        pitcherElos[row[\"pitcher\"]] = int(pitcherElos[row[\"pitcher\"]] + 32 * (1 - prob))\n",
    "        batterElos[row[\"batter\"]] = int(batterElos[row[\"batter\"]] + 32 * (prob - 1))\n",
    "    # If the batter wins the matchup\n",
    "    else:\n",
    "        pitcherElos[row[\"pitcher\"]] = int(pitcherElos[row[\"pitcher\"]] + 32 * (prob - 1))\n",
    "        batterElos[row[\"batter\"]] = int(batterElos[row[\"batter\"]] + 32 * (1 - prob))"
   ]
  },
  {
   "cell_type": "code",
   "execution_count": null,
   "metadata": {
    "collapsed": true
   },
   "outputs": [],
   "source": [
    "Outcomes.head()"
   ]
  },
  {
   "cell_type": "code",
   "execution_count": null,
   "metadata": {
    "collapsed": true
   },
   "outputs": [],
   "source": [
    "Outcomes.apply(UpdateElo, axis = 1);"
   ]
  },
  {
   "cell_type": "code",
   "execution_count": null,
   "metadata": {
    "collapsed": true
   },
   "outputs": [],
   "source": [
    "print(list(batterElos.values()))"
   ]
  },
  {
   "cell_type": "code",
   "execution_count": 19,
   "metadata": {},
   "outputs": [
    {
     "name": "stdout",
     "output_type": "stream",
     "text": [
      "[772, 798, 806, 762, 770, 714, 577, 644, 793, 743, 702, 891, 718, 666, 587, 596, 815, 852, 789, 811, 631, 758, 642, 1014, 734, 777, 844, 744, 777, 820, 739, 741, 939, 717, 939, 578, 596, 744, 952, 954, 879, 741, 786, 575, 802, 838, 823, 831, 671, 986, 596, 1353, 866, 716, 844, 762, 752, 773, 765, 553, 658, 826, 794, 829, 905, 952, 810, 647, 762, 699, 864, 644, 805, 498, 690, 808, 888, 1058, 819, 594, 615, 616, 842, 882, 711, 591, 853, 777, 624, 877, 793, 759, 822, 817, 852, 713, 627, 1046, 734, 798, 803, 854, 904, 641, 601, 834, 822, 737, 746, 831, 766, 991, 780, 885, 850, 658, 668, 606, 813, 741, 827, 883, 731, 697, 577, 854, 957, 957, 775, 685, 586, 844, 902, 786, 750, 593, 734, 854, 757, 900, 799, 585, 800, 791, 775, 886, 599, 777, 807, 674, 758, 657, 746, 935, 805, 877, 740, 755, 735, 656, 864, 854, 937, 850, 837, 641, 683, 979, 866, 772, 658, 719, 844, 916, 810, 641, 792, 681, 1016, 795, 765, 678, 682, 846, 700, 872, 822, 872, 597, 833, 818, 851, 763, 571, 665, 764, 834, 763, 731, 818, 840, 632, 766, 775, 798, 882, 671, 837, 844, 835, 855, 770, 731, 846, 721, 780, 700, 779, 754, 829, 675, 838, 677, 857, 724, 938, 886, 825, 808, 884, 675, 631, 912, 792, 740, 847, 861, 924, 867, 882, 809, 938, 770, 719, 936, 777, 855, 740, 790, 880, 897, 840, 815, 688, 850, 676, 713, 679, 785, 888, 870, 841, 906, 882, 652, 674, 687, 790, 883, 810, 1040, 710, 666, 883, 872, 726, 811, 875, 916, 736, 687, 845, 781, 678, 801, 778, 757, 657, 682, 914, 878, 674, 768, 760, 867, 701, 866, 852, 880, 873, 689, 683, 900, 722, 736, 722, 721, 709, 829, 747, 681, 874, 743, 741, 894, 804, 734, 670, 728, 664, 682, 719, 699, 746, 719, 756, 672, 825, 703, 855, 850, 740, 709, 691, 726, 755, 863, 704, 817, 790, 799, 873, 889, 762, 717, 796, 803, 885, 849, 1022, 872, 823, 712, 754, 878, 867, 747, 715, 865, 937, 835, 914, 743, 868, 879, 867, 877, 924, 876, 901, 900, 896, 912, 862, 877, 842, 867, 817, 892, 736, 918, 952, 917, 782, 804, 809, 869, 851, 958, 923, 887, 837]\n"
     ]
    }
   ],
   "source": [
    "print(list(pitcherElos.values()))"
   ]
  },
  {
   "cell_type": "code",
   "execution_count": 20,
   "metadata": {
    "collapsed": true
   },
   "outputs": [],
   "source": [
    "# Create a dictionary to convert the player ID's to names\n",
    "def PlayerIDtoName(id):\n",
    "    return(IDtoName[id])\n",
    "\n",
    "# Create a function to convert player's name to ID\n",
    "def PlayerNametoID(name):\n",
    "    return(NametoID[name])"
   ]
  },
  {
   "cell_type": "code",
   "execution_count": null,
   "metadata": {
    "collapsed": true
   },
   "outputs": [],
   "source": []
  }
 ],
 "metadata": {
  "kernelspec": {
   "display_name": "Python 3",
   "language": "python",
   "name": "python3"
  },
  "language_info": {
   "codemirror_mode": {
    "name": "ipython",
    "version": 3
   },
   "file_extension": ".py",
   "mimetype": "text/x-python",
   "name": "python",
   "nbconvert_exporter": "python",
   "pygments_lexer": "ipython3",
   "version": "3.6.3"
  }
 },
 "nbformat": 4,
 "nbformat_minor": 2
}
