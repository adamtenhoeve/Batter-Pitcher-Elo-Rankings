{
 "cells": [
  {
   "cell_type": "markdown",
   "metadata": {},
   "source": [
    "**CSCI 4831: Sabermetrics Final Project**  \n",
    "Name: Adam Ten Hoeve"
   ]
  },
  {
   "cell_type": "code",
   "execution_count": 1,
   "metadata": {},
   "outputs": [],
   "source": [
    "import numpy as np\n",
    "import pandas as pd\n",
    "import matplotlib.pyplot as plt\n",
    "%matplotlib inline"
   ]
  },
  {
   "cell_type": "code",
   "execution_count": 26,
   "metadata": {},
   "outputs": [
    {
     "name": "stderr",
     "output_type": "stream",
     "text": [
      "D:\\Anaconda\\lib\\site-packages\\IPython\\core\\interactiveshell.py:2698: DtypeWarning: Columns (18) have mixed types. Specify dtype option on import or set low_memory=False.\n",
      "  interactivity=interactivity, compiler=compiler, result=result)\n",
      "D:\\Anaconda\\lib\\site-packages\\ipykernel_launcher.py:21: FutureWarning: Sorting because non-concatenation axis is not aligned. A future version\n",
      "of pandas will change to not sort by default.\n",
      "\n",
      "To accept the future behavior, pass 'sort=False'.\n",
      "\n",
      "To retain the current behavior and silence the warning, pass 'sort=True'.\n",
      "\n"
     ]
    }
   ],
   "source": [
    "# Read in all of the statcast data\n",
    "# df2016 = pd.read_csv(\"2016/data2016.csv\")\n",
    "\n",
    "# april2017 = pd.read_csv(\"2017/dataApril2017.csv\")\n",
    "# may2017 = pd.read_csv(\"2017/dataMay2017.csv\")\n",
    "# june2017 = pd.read_csv(\"2017/dataJune2017.csv\")\n",
    "# july2017 = pd.read_csv(\"2017/dataJuly2017.csv\")\n",
    "# aug2017 = pd.read_csv(\"2017/dataAug2017.csv\")\n",
    "# sept2017 = pd.read_csv(\"2017/dataSept2017.csv\")\n",
    "# oct2017 = pd.read_csv(\"2017/dataOct2017.csv\")\n",
    "\n",
    "april2018 = pd.read_csv(\"2018/dataApril2018.csv\")\n",
    "may2018 = pd.read_csv(\"2018/dataMay2018.csv\")\n",
    "june2018 = pd.read_csv(\"2018/dataJune2018.csv\")\n",
    "july2018 = pd.read_csv(\"2018/dataJuly2018.csv\")\n",
    "aug2018 = pd.read_csv(\"2018/dataAug2018.csv\")\n",
    "sept2018 = pd.read_csv(\"2018/dataSept2018.csv\")\n",
    "oct2018 = pd.read_csv(\"2018/dataOct2018.csv\")\n",
    "\n",
    "# df2017 = pd.concat([april2017, may2017, june2017, july2017, aug2017, sept2017, oct2017])\n",
    "df2018 = pd.concat([april2018, may2018, june2018, july2018, aug2018, sept2018, oct2018])\n",
    "\n",
    "# dfTotal = pd.concat([df2016, df2017, df2018])\n",
    "dfTotal = df2018.copy()"
   ]
  },
  {
   "cell_type": "code",
   "execution_count": 27,
   "metadata": {},
   "outputs": [],
   "source": [
    "# Clean the data. \n",
    "# Group by pitcher. Get rid of anyone who pitched less than 100 times in the three years.\n",
    "dfTempPitch = dfTotal.groupby(\"player_name\", as_index = False).count()\n",
    "dfTempPitch = dfTempPitch.loc[dfTempPitch[\"index\"] > 100]\n",
    "# Then group by batter to get rid of any batters who batted less than 100 times.\n",
    "dfTempBat = dfTotal.groupby(\"batter\", as_index = False).count()\n",
    "dfTempBat = dfTempBat.loc[dfTempBat[\"index\"] > 100]\n",
    "\n",
    "# Create a database of pitchers \n",
    "dfPitchers = pd.merge(dfTotal, dfTempPitch[[\"player_name\"]], on = \"player_name\", how = \"inner\")\n",
    "# Create a database of batters\n",
    "dfBatters = pd.merge(dfTotal, dfTempBat[[\"batter\"]], on = \"batter\", how = \"inner\")\n",
    "\n",
    "# Create a final dataframe of the cleaned batter and pitcher data\n",
    "dfFinal = pd.merge(dfPitchers, dfBatters[[\"index\", \"pitcher\", \"batter\", \"release_speed\", \"strikes\", \"balls\"]], on = [\"index\", \"pitcher\", \"batter\", \"release_speed\", \"strikes\", \"balls\"], how = \"inner\")"
   ]
  },
  {
   "cell_type": "code",
   "execution_count": 28,
   "metadata": {},
   "outputs": [],
   "source": [
    "# A list of events of the batter either striking out or hitting the ball into play.\n",
    "events = [\"strikeout\", \"strikeout_double_play\", \"single\", \"double\", \"triple\", \"home_run\", \"sac_bunt\", \"sac_fly\", \"field_out\", \"field_error\", \"double_play\", \"grounded_into_double_play\", \"sac_fly_double_play\", \"triple_play\", \"walk\", \"hit_by_pitch\"]\n",
    "# Get rid of all the rows of data that don't have one of the events listed.\n",
    "Outcomes = dfFinal.loc[dfFinal[\"events\"].isin(events)]"
   ]
  },
  {
   "cell_type": "code",
   "execution_count": 29,
   "metadata": {},
   "outputs": [
    {
     "data": {
      "text/html": [
       "<div>\n",
       "<style scoped>\n",
       "    .dataframe tbody tr th:only-of-type {\n",
       "        vertical-align: middle;\n",
       "    }\n",
       "\n",
       "    .dataframe tbody tr th {\n",
       "        vertical-align: top;\n",
       "    }\n",
       "\n",
       "    .dataframe thead th {\n",
       "        text-align: right;\n",
       "    }\n",
       "</style>\n",
       "<table border=\"1\" class=\"dataframe\">\n",
       "  <thead>\n",
       "    <tr style=\"text-align: right;\">\n",
       "      <th></th>\n",
       "      <th>events</th>\n",
       "      <th>index</th>\n",
       "      <th>proportion</th>\n",
       "    </tr>\n",
       "  </thead>\n",
       "  <tbody>\n",
       "    <tr>\n",
       "      <th>0</th>\n",
       "      <td>double</td>\n",
       "      <td>7989</td>\n",
       "      <td>0.045871</td>\n",
       "    </tr>\n",
       "    <tr>\n",
       "      <th>1</th>\n",
       "      <td>double_play</td>\n",
       "      <td>444</td>\n",
       "      <td>0.002549</td>\n",
       "    </tr>\n",
       "    <tr>\n",
       "      <th>2</th>\n",
       "      <td>field_error</td>\n",
       "      <td>1517</td>\n",
       "      <td>0.008710</td>\n",
       "    </tr>\n",
       "    <tr>\n",
       "      <th>3</th>\n",
       "      <td>field_out</td>\n",
       "      <td>71342</td>\n",
       "      <td>0.409628</td>\n",
       "    </tr>\n",
       "    <tr>\n",
       "      <th>4</th>\n",
       "      <td>grounded_into_double_play</td>\n",
       "      <td>3330</td>\n",
       "      <td>0.019120</td>\n",
       "    </tr>\n",
       "    <tr>\n",
       "      <th>5</th>\n",
       "      <td>hit_by_pitch</td>\n",
       "      <td>1857</td>\n",
       "      <td>0.010662</td>\n",
       "    </tr>\n",
       "    <tr>\n",
       "      <th>6</th>\n",
       "      <td>home_run</td>\n",
       "      <td>5418</td>\n",
       "      <td>0.031109</td>\n",
       "    </tr>\n",
       "    <tr>\n",
       "      <th>7</th>\n",
       "      <td>sac_bunt</td>\n",
       "      <td>718</td>\n",
       "      <td>0.004123</td>\n",
       "    </tr>\n",
       "    <tr>\n",
       "      <th>8</th>\n",
       "      <td>sac_fly</td>\n",
       "      <td>1186</td>\n",
       "      <td>0.006810</td>\n",
       "    </tr>\n",
       "    <tr>\n",
       "      <th>9</th>\n",
       "      <td>sac_fly_double_play</td>\n",
       "      <td>10</td>\n",
       "      <td>0.000057</td>\n",
       "    </tr>\n",
       "    <tr>\n",
       "      <th>10</th>\n",
       "      <td>single</td>\n",
       "      <td>25531</td>\n",
       "      <td>0.146593</td>\n",
       "    </tr>\n",
       "    <tr>\n",
       "      <th>11</th>\n",
       "      <td>strikeout</td>\n",
       "      <td>39511</td>\n",
       "      <td>0.226862</td>\n",
       "    </tr>\n",
       "    <tr>\n",
       "      <th>12</th>\n",
       "      <td>strikeout_double_play</td>\n",
       "      <td>158</td>\n",
       "      <td>0.000907</td>\n",
       "    </tr>\n",
       "    <tr>\n",
       "      <th>13</th>\n",
       "      <td>triple</td>\n",
       "      <td>816</td>\n",
       "      <td>0.004685</td>\n",
       "    </tr>\n",
       "    <tr>\n",
       "      <th>14</th>\n",
       "      <td>triple_play</td>\n",
       "      <td>2</td>\n",
       "      <td>0.000011</td>\n",
       "    </tr>\n",
       "    <tr>\n",
       "      <th>15</th>\n",
       "      <td>walk</td>\n",
       "      <td>14334</td>\n",
       "      <td>0.082302</td>\n",
       "    </tr>\n",
       "  </tbody>\n",
       "</table>\n",
       "</div>"
      ],
      "text/plain": [
       "                       events  index  proportion\n",
       "0                      double   7989    0.045871\n",
       "1                 double_play    444    0.002549\n",
       "2                 field_error   1517    0.008710\n",
       "3                   field_out  71342    0.409628\n",
       "4   grounded_into_double_play   3330    0.019120\n",
       "5                hit_by_pitch   1857    0.010662\n",
       "6                    home_run   5418    0.031109\n",
       "7                    sac_bunt    718    0.004123\n",
       "8                     sac_fly   1186    0.006810\n",
       "9         sac_fly_double_play     10    0.000057\n",
       "10                     single  25531    0.146593\n",
       "11                  strikeout  39511    0.226862\n",
       "12      strikeout_double_play    158    0.000907\n",
       "13                     triple    816    0.004685\n",
       "14                triple_play      2    0.000011\n",
       "15                       walk  14334    0.082302"
      ]
     },
     "execution_count": 29,
     "metadata": {},
     "output_type": "execute_result"
    }
   ],
   "source": [
    "# Calculate the proportion of each type of event. Will be used to calculate the weight of certain outcomes.\n",
    "OutcomesProp = Outcomes.groupby(\"events\", as_index = False).count()\n",
    "numEvents = len(Outcomes)\n",
    "OutcomesProp[\"proportion\"] = OutcomesProp[\"index\"] / numEvents\n",
    "OutcomesProp = OutcomesProp[[\"events\", \"index\", \"proportion\"]]\n",
    "OutcomesProp"
   ]
  },
  {
   "cell_type": "code",
   "execution_count": 173,
   "metadata": {},
   "outputs": [],
   "source": [
    "# Create a dictionary of all batters and pitchers\n",
    "batterElos = {}\n",
    "pitcherElos = {}\n",
    "\n",
    "# ids = list(Outcomes[\"pitcher\"].unique()) + list(Outcomes[\"batter\"].unique())\n",
    "for id in list(Outcomes[\"pitcher\"].unique()):\n",
    "    pitcherElos[id] = 1000\n",
    "for id in list(Outcomes[\"batter\"].unique()):\n",
    "    batterElos[id] = 1000\n",
    "    \n",
    "# Create a list of pitcher-favored outcomes.\n",
    "pitcherFavored = [\"strikeout\", \"strikeout_double_play\", \"field_out\", \"double_play\", \"grounded_into_double_play\", \"sac_fly_double_play\", \"triple_play\"]\n",
    "# Create a list of batter favored outcomes, meaning they did not get out by the end of the play.\n",
    "batterFavored = [\"single\", \"double\", \"triple\", \"home_run\", \"field_error\", \"walk\", \"hit_by_pitch\", \"sac_bunt\", \"sac_fly\"]"
   ]
  },
  {
   "cell_type": "code",
   "execution_count": 174,
   "metadata": {},
   "outputs": [],
   "source": [
    "# Create a dictionary of actual historical result data. This will be to compare the predicted outcome probabilities\n",
    "histResults = {}\n",
    "for pid in list(Outcomes[\"pitcher\"].unique()):\n",
    "        for bid in list(Outcomes[\"batter\"].unique()):\n",
    "            histResults[(pid, bid)] = np.array([0,0])"
   ]
  },
  {
   "cell_type": "code",
   "execution_count": 175,
   "metadata": {},
   "outputs": [
    {
     "name": "stdout",
     "output_type": "stream",
     "text": [
      "0.34086459236462396 0.659135407635376\n"
     ]
    }
   ],
   "source": [
    "def PercentOnBase(row):\n",
    "    if row[\"events\"] in batterFavored:\n",
    "        return 1\n",
    "    return 0\n",
    "\n",
    "# Find how often batters get on base\n",
    "total = len(Outcomes)\n",
    "probBatterWins = np.sum(Outcomes.apply(PercentOnBase, axis = 1)) / total\n",
    "probPitchWins = 1 - probBatterWins\n",
    "\n",
    "print(probBatterWins, probPitchWins)"
   ]
  },
  {
   "cell_type": "code",
   "execution_count": 176,
   "metadata": {},
   "outputs": [
    {
     "name": "stdout",
     "output_type": "stream",
     "text": [
      "1.466858134285618 0.7585694748120596\n"
     ]
    }
   ],
   "source": [
    "# Batters only \"win\" about 35% of the time. So weight the eventual scores so it's as if they win 50% of the time.\n",
    "# Way better than the old system of weighting scores individually\n",
    "batterWeight = 0.5 / probBatterWins\n",
    "pitcherWeight = 0.5 / (1 - probBatterWins)\n",
    "\n",
    "print(batterWeight, pitcherWeight)"
   ]
  },
  {
   "cell_type": "code",
   "execution_count": 177,
   "metadata": {},
   "outputs": [],
   "source": [
    "# Determines the weight on the elo based on the type of event.\n",
    "# Used to balance the proportion of pitcher-wins to batter-wins.\n",
    "# Otherwise pitchers win about 70% of the time and dominate the scores\n",
    "def EloEventWeight(event):\n",
    "    # If that event occured\n",
    "    if event == \"strikeout\":\n",
    "        # Return the prob of that event times the assigned weight based on impact\n",
    "        # All weights have are *2 what they normally are to speed up processing by preventing floating point arithmetic.\n",
    "        return OutcomesProp.loc[OutcomesProp[\"events\"] == \"strikeout\"][\"proportion\"] * 2\n",
    "    elif event == \"field_out\":\n",
    "        return OutcomesProp.loc[OutcomesProp[\"events\"] == \"field_out\"][\"proportion\"] * 1\n",
    "    elif event == \"double_play\":\n",
    "        return OutcomesProp.loc[OutcomesProp[\"events\"] == \"double_play\"][\"proportion\"] * 4\n",
    "    elif event == \"grounded_into_double_play\":\n",
    "        return OutcomesProp.loc[OutcomesProp[\"events\"] == \"grounded_into_double_play\"][\"proportion\"] * 4\n",
    "    elif event == \"strikeout_double_play\":\n",
    "        return OutcomesProp.loc[OutcomesProp[\"events\"] == \"strikeout_double_play\"][\"proportion\"] * 4\n",
    "    elif event == \"triple_play\":\n",
    "        return OutcomesProp.loc[OutcomesProp[\"events\"] == \"triple_play\"][\"proportion\"] * 6\n",
    "    elif event == \"sac_fly_double_play\":\n",
    "        return OutcomesProp.loc[OutcomesProp[\"events\"] == \"sac_fly_double_play\"][\"proportion\"] * 2\n",
    "    elif event == \"single\":\n",
    "        return OutcomesProp.loc[OutcomesProp[\"events\"] == \"single\"][\"proportion\"] * 2\n",
    "    elif event == \"double\":\n",
    "        return OutcomesProp.loc[OutcomesProp[\"events\"] == \"double\"][\"proportion\"] * 4\n",
    "    elif event == \"triple\":\n",
    "        return OutcomesProp.loc[OutcomesProp[\"events\"] == \"triple\"][\"proportion\"] * 6\n",
    "    elif event == \"home_run\":\n",
    "        return OutcomesProp.loc[OutcomesProp[\"events\"] == \"home_run\"][\"proportion\"] * 8\n",
    "    elif event == \"sac_bunt\":\n",
    "        return OutcomesProp.loc[OutcomesProp[\"events\"] == \"sac_bunt\"][\"proportion\"] * 2\n",
    "    elif event == \"sac_fly\":\n",
    "        return OutcomesProp.loc[OutcomesProp[\"events\"] == \"sac_fly\"][\"proportion\"] * 2\n",
    "    elif event == \"field_error\":\n",
    "        return OutcomesProp.loc[OutcomesProp[\"events\"] == \"field_error\"][\"proportion\"] * 2\n",
    "    elif event == \"walk\":\n",
    "        return OutcomesProp.loc[OutcomesProp[\"events\"] == \"walk\"][\"proportion\"] * 2\n",
    "    elif event == \"hit_by_pitch\":\n",
    "        return OutcomesProp.loc[OutcomesProp[\"events\"] == \"hit_by_pitch\"][\"proportion\"] * 2\n",
    "    else:\n",
    "        # something got through that wasn't supposed to get through\n",
    "        print(event)\n",
    "        return 0.5"
   ]
  },
  {
   "cell_type": "code",
   "execution_count": 178,
   "metadata": {},
   "outputs": [],
   "source": [
    "# Create a function to calculate the probability a pitcher wins the matchup\n",
    "def ProbPitcherWins(pitcher, batter):\n",
    "    # Get ranking of pitcher and batter\n",
    "    pitcherRank = pitcherElos[pitcher]\n",
    "    batterRank = batterElos[batter]\n",
    "    # From elo rankings. Assumes a difference of 400 is the same as 1 player being 10 times as likely to win\n",
    "    probPitcherWins = 1 / (1 + 10**((batterRank - pitcherRank)/1000))\n",
    "    return probPitcherWins"
   ]
  },
  {
   "cell_type": "code",
   "execution_count": 179,
   "metadata": {},
   "outputs": [],
   "source": [
    "# Create a function to update the scores of players based on the results of pitches\n",
    "def UpdateElo(row):\n",
    "    p = row[\"pitcher\"]\n",
    "    b = row[\"batter\"]\n",
    "    # Get the probability that the pitcher wins from the function above\n",
    "    prob = ProbPitcherWins(p, b)\n",
    "    # Update the ratings based on the outcome of the pitch\n",
    "    # If pitcher \"wins\" the matchup\n",
    "    if row[\"events\"] in pitcherFavored:\n",
    "        # Largest possible change in score is 32.\n",
    "        # Shown 16 here because *2 in weight function to prevent float multiplication.\n",
    "        pitcherElos[p] = np.floor(pitcherElos[p] + (32 * pitcherWeight * (1 - prob)))\n",
    "        batterElos[b] = np.floor(batterElos[b] + (32 * pitcherWeight * (prob - 1)))\n",
    "        histResults[(p, b)] = histResults[(p, b)] + np.array([1, 0])\n",
    "    # If the batter wins the matchup\n",
    "    else:\n",
    "        pitcherElos[p] = np.floor(pitcherElos[p] + (32 * batterWeight * (prob - 1)))\n",
    "        batterElos[b] = np.floor(batterElos[b] + (32 * batterWeight * (1 - prob)))\n",
    "        histResults[(p, b)] = histResults[(p, b)] + np.array([0, 1])"
   ]
  },
  {
   "cell_type": "code",
   "execution_count": 180,
   "metadata": {},
   "outputs": [],
   "source": [
    "Outcomes.apply(UpdateElo, axis = 1);"
   ]
  },
  {
   "cell_type": "code",
   "execution_count": 181,
   "metadata": {},
   "outputs": [
    {
     "name": "stdout",
     "output_type": "stream",
     "text": [
      "4770.0\n"
     ]
    }
   ],
   "source": [
    "print(max(list(batterElos.values())))"
   ]
  },
  {
   "cell_type": "code",
   "execution_count": 182,
   "metadata": {
    "scrolled": false
   },
   "outputs": [
    {
     "name": "stdout",
     "output_type": "stream",
     "text": [
      "[2040.0, 730.0, 1086.0, 461.0, 1160.0, 470.0, 1045.0, 2916.0, 1114.0, 617.0, 1417.0, 447.0, 445.0, 457.0, 379.0, 3943.0, 1001.0, 2913.0, 581.0, 888.0, 1320.0, 669.0, 541.0, 292.0, 2974.0, 619.0, 1411.0, -65.0, 801.0, 591.0, 968.0, 998.0, 646.0, 971.0, 721.0, 446.0, 805.0, 281.0, 440.0, 1883.0, 1767.0, 687.0, 1087.0, 2272.0, 861.0, 1003.0, 954.0, 1236.0, 583.0, 1841.0, 1350.0, 1512.0, 704.0, 1266.0, 733.0, 1491.0, 715.0, 1319.0, 328.0, 4770.0, 819.0, 105.0, 1413.0, 2386.0, 325.0, 740.0, 1197.0, 223.0, 1086.0, 923.0, 1511.0, 975.0, 265.0, 1550.0, 2318.0, 610.0, 904.0, 1133.0, 449.0, 1051.0, 917.0, 305.0, 1013.0, 1084.0, 906.0, 666.0, 133.0, 1224.0, 1272.0, 1128.0, 675.0, 195.0, 47.0, 698.0, 882.0, 2245.0, 4598.0, 729.0, 672.0, 945.0, 885.0, 564.0, 362.0, 952.0, 2113.0, 1083.0, 799.0, 1081.0, 402.0, 1217.0, 439.0, 1394.0, 623.0, 807.0, 771.0, 752.0, 584.0, 848.0, 11.0, 929.0, 422.0, 587.0, 1204.0, 1189.0, 3852.0, 2584.0, 1639.0, 1282.0, 395.0, 883.0, 1022.0, 1133.0, 439.0, 858.0, 1230.0, 1771.0, 460.0, 704.0, 726.0, 2108.0, 877.0, 717.0, 2672.0, 774.0, 884.0, 707.0, 372.0, 1149.0, 585.0, 689.0, 739.0, 874.0, 671.0, 1477.0, 783.0, 823.0, 476.0, 746.0, 3818.0, 3436.0, 837.0, 889.0, 490.0, 765.0, 1437.0, 689.0, 1219.0, 418.0, 1663.0, 2063.0, 1682.0, 740.0, 701.0, 343.0, 1149.0, 1477.0, 457.0, 428.0, 592.0, 1063.0, 1208.0, 808.0, 552.0, 670.0, 783.0, 711.0, 870.0, 947.0, 714.0, 979.0, 1129.0, 263.0, 1540.0, 654.0, 558.0, 1146.0, 1553.0, 614.0, 764.0, 898.0, 687.0, 1380.0, 460.0, 448.0, 612.0, 949.0, 609.0, 1105.0, 941.0, 2689.0, 1326.0, 799.0, 771.0, 852.0, 642.0, 1838.0, 342.0, 362.0, 1041.0, 1284.0, 641.0, 664.0, 1158.0, 635.0, 1181.0, 446.0, 593.0, 485.0, 565.0, 1136.0, 2069.0, 1161.0, 579.0, 841.0, 696.0, 573.0, 712.0, 762.0, 779.0, 754.0, 731.0, 1899.0, 367.0, 1535.0, 1857.0, 837.0, 922.0, 588.0, 1797.0, 481.0, 808.0, 322.0, 843.0, 802.0, 673.0, 891.0, 770.0, 388.0, 1096.0, 395.0, 2384.0, 594.0, 2422.0, 808.0, 960.0, 1190.0, 190.0, 209.0, 915.0, 821.0, 470.0, 1878.0, 1287.0, 378.0, 449.0, 722.0, 1574.0, 875.0, 665.0, 912.0, 1125.0, 1074.0, 1679.0, 755.0, 944.0, 952.0, 1003.0, 754.0, 850.0, 3020.0, 454.0, 481.0, 929.0, 546.0, 1037.0, 940.0, 1975.0, 533.0, 345.0, 982.0, 895.0, 1031.0, 1012.0, 742.0, 463.0, 939.0, 641.0, 950.0, 360.0, 395.0, 885.0, 767.0, 1112.0, 2848.0, 2746.0, 1278.0, 2149.0, 825.0, 813.0, 884.0, 1258.0, 482.0, 685.0, 401.0, 1072.0, 1386.0, 577.0, 1056.0, 627.0, 1160.0, 209.0, 2416.0, 917.0, 795.0, 546.0, 1210.0, 696.0, 1515.0, 2390.0, 913.0, 1015.0, 1478.0, 1307.0, 931.0, 812.0, 1072.0, 366.0, 857.0, 2479.0, 1128.0, 485.0, 537.0, 444.0, 929.0, 552.0, 810.0, 809.0, 816.0, 968.0, 965.0, 672.0, 969.0, 507.0, 740.0, 947.0, 725.0, 884.0, 635.0, 525.0, 909.0, 1515.0, 810.0, 651.0, 459.0, 765.0, 574.0, 708.0, 935.0, 1630.0, 1470.0, 704.0, 838.0, 960.0, 776.0, 890.0, 392.0, 1750.0, 909.0, 769.0, 762.0, 859.0, 1059.0, 703.0, 1871.0, 1237.0, 1027.0, 533.0, 1147.0, 487.0, 1052.0, 830.0, 910.0, 800.0, 1508.0, 481.0, 431.0, 913.0, 1223.0, 2192.0, 1354.0, 1057.0, 795.0, 692.0, 2739.0, 1342.0, 739.0, 895.0, 753.0, 724.0, 764.0, 841.0, 2403.0, 728.0, 367.0, 648.0, 818.0, 487.0, 1158.0, 912.0, 1685.0, 905.0, 482.0, 489.0, 786.0, 1298.0, 578.0, 1176.0, 824.0, 992.0, 1057.0, 843.0, 821.0, 743.0, 839.0, 884.0, 604.0, 828.0, 632.0, 862.0, 545.0, 849.0, 686.0, 1058.0, 3778.0, 823.0, 809.0, 2318.0, 747.0, 542.0, 860.0, 702.0, 1014.0, 946.0, 788.0, 1162.0, 666.0, 958.0, 439.0, 1274.0, 636.0, 900.0, 961.0, 1595.0, 758.0, 720.0, 797.0, 864.0, 990.0, 1086.0, 822.0, 813.0, 734.0, 801.0, 598.0, 980.0, 592.0, 395.0, 703.0, 1171.0, 1004.0, 645.0, 187.0, 648.0, 609.0, 50.0, 833.0, 678.0, 680.0, 1302.0, 1129.0, 615.0, 784.0, 877.0, 995.0, 959.0, 494.0, 556.0, 1150.0, 760.0, 795.0, 963.0, 673.0, 883.0, 993.0, 880.0, 837.0, 706.0, 995.0, 849.0, 799.0, 688.0, 793.0, 1239.0, 660.0, 875.0, 865.0, 765.0, 492.0, 787.0, 886.0, 915.0, 871.0, 1114.0, 726.0, 984.0, 1085.0, 614.0, 931.0, 684.0, 612.0, 917.0, 556.0, 870.0, 1014.0, 807.0, 821.0, 743.0, 621.0, 723.0, 825.0, 847.0, 605.0, 1143.0, 882.0, 829.0, 717.0, 811.0, 699.0, 575.0, 968.0, 749.0, 976.0, 861.0, 599.0, 811.0, 645.0, 1001.0, 836.0, 664.0, 851.0, 814.0, 974.0, 977.0, 902.0, 1056.0, 656.0, 1005.0, 911.0, 906.0, 840.0, 821.0, 977.0, 751.0, 771.0, 904.0, 611.0, 764.0, 814.0, 876.0, 893.0, 865.0, 912.0, 871.0, 595.0, 983.0, 778.0, 785.0, 855.0, 854.0, 908.0, 1123.0, 964.0, 878.0, 548.0, 794.0, 742.0, 980.0, 782.0, 936.0, 841.0, 586.0, 836.0, 722.0, 753.0, 537.0, 921.0, 707.0, 846.0, 754.0, 641.0, 756.0, 969.0, 927.0, 790.0, 1086.0, 682.0, 786.0, 794.0, 1229.0, 705.0, 743.0, 848.0, 1011.0]\n"
     ]
    }
   ],
   "source": [
    "print(list(batterElos.values()))"
   ]
  },
  {
   "cell_type": "code",
   "execution_count": 183,
   "metadata": {},
   "outputs": [
    {
     "name": "stdout",
     "output_type": "stream",
     "text": [
      "1866.0\n"
     ]
    }
   ],
   "source": [
    "print(max(list(pitcherElos.values())))"
   ]
  },
  {
   "cell_type": "code",
   "execution_count": 184,
   "metadata": {},
   "outputs": [
    {
     "name": "stdout",
     "output_type": "stream",
     "text": [
      "[1120.0, 939.0, 1200.0, 1161.0, 480.0, 549.0, 1023.0, -17.0, -524.0, 831.0, 825.0, 1413.0, 995.0, 1055.0, 651.0, 203.0, 1451.0, 1345.0, 609.0, 1244.0, 1131.0, 292.0, 942.0, 569.0, 717.0, 956.0, 1141.0, 786.0, 1300.0, 812.0, 847.0, 1367.0, 1259.0, 1064.0, -561.0, 391.0, 629.0, 1098.0, 666.0, 1259.0, 239.0, 1291.0, 972.0, 655.0, 548.0, 920.0, 804.0, 1168.0, 841.0, 729.0, 307.0, 932.0, 1142.0, 1233.0, 1037.0, 1114.0, 1072.0, 1357.0, -230.0, 1600.0, 1330.0, 1299.0, 1202.0, -382.0, 921.0, 525.0, 472.0, 1178.0, 527.0, 860.0, 1246.0, 1235.0, 757.0, 1033.0, 1117.0, 1160.0, 654.0, 1451.0, 1231.0, 730.0, 1018.0, 1116.0, 374.0, 837.0, -584.0, 1202.0, 1213.0, 66.0, 1260.0, 1290.0, 893.0, 931.0, 808.0, -316.0, 894.0, 463.0, 1141.0, 1193.0, -1161.0, 1251.0, 1085.0, 1112.0, 1107.0, 304.0, 899.0, 899.0, 1137.0, 706.0, 690.0, 902.0, 681.0, 738.0, -216.0, 1553.0, 664.0, 640.0, 857.0, 830.0, 935.0, 692.0, 642.0, 1283.0, 942.0, 1016.0, 1387.0, 896.0, 1136.0, 1491.0, 1190.0, 640.0, 1270.0, 1155.0, 386.0, 727.0, 754.0, 778.0, 629.0, 954.0, 604.0, 728.0, 880.0, 1157.0, -26.0, 1186.0, 745.0, 1059.0, 396.0, -2006.0, 610.0, 607.0, 868.0, 1213.0, 858.0, 979.0, -210.0, 822.0, 1117.0, 1131.0, 1050.0, 382.0, 923.0, 1234.0, 790.0, -265.0, 1121.0, 470.0, 976.0, 1171.0, 999.0, 1005.0, -818.0, 559.0, 1325.0, 846.0, 563.0, 190.0, 945.0, 935.0, 0.0, 227.0, 111.0, 801.0, 665.0, 92.0, 832.0, 1045.0, 582.0, 516.0, 630.0, 609.0, 1538.0, 571.0, 902.0, -772.0, 923.0, 795.0, 1183.0, 788.0, 506.0, 1247.0, 535.0, 946.0, 883.0, 998.0, 1224.0, 810.0, 308.0, 755.0, 590.0, 771.0, 1234.0, 1254.0, 869.0, 912.0, 1234.0, 482.0, 937.0, 1179.0, 1139.0, 1108.0, 1100.0, 811.0, 971.0, 733.0, 1252.0, 862.0, 1123.0, 709.0, 1302.0, 1125.0, 420.0, 1171.0, 684.0, 984.0, 973.0, 1150.0, 783.0, 1297.0, 696.0, 304.0, 889.0, 352.0, 69.0, 285.0, 731.0, 103.0, 584.0, -888.0, 833.0, -247.0, 790.0, 527.0, 1104.0, 1023.0, 713.0, 837.0, 1298.0, 577.0, 517.0, 602.0, 39.0, 974.0, 897.0, 512.0, 906.0, -4.0, 1041.0, 1053.0, 1025.0, 1133.0, 1005.0, 778.0, 1473.0, 172.0, 1011.0, 518.0, 1317.0, 769.0, 1083.0, 889.0, 749.0, 1125.0, 1695.0, 716.0, -58.0, 620.0, -24.0, 17.0, 741.0, 1158.0, 40.0, 1596.0, -199.0, 858.0, 1222.0, 910.0, 838.0, 1065.0, -224.0, 1548.0, 1444.0, 609.0, 734.0, 1344.0, 1119.0, 499.0, 1182.0, 848.0, 843.0, 465.0, 1223.0, 912.0, 1745.0, -331.0, 1064.0, 851.0, 1117.0, 1306.0, 749.0, 809.0, 889.0, -162.0, 1191.0, 1237.0, 903.0, 968.0, 731.0, 723.0, 850.0, 686.0, 643.0, 1078.0, 1026.0, 714.0, 884.0, 533.0, 829.0, -192.0, 1070.0, 1624.0, 681.0, 1068.0, 1006.0, -1384.0, 520.0, -405.0, -280.0, 1071.0, 1461.0, 391.0, 823.0, -193.0, 836.0, 608.0, 915.0, 1146.0, 1058.0, 657.0, 962.0, -474.0, 586.0, 1441.0, 300.0, 257.0, -407.0, 631.0, 295.0, 532.0, 1866.0, 443.0, 525.0, 40.0, 643.0, 34.0, 773.0, 1095.0, 759.0, 665.0, 1031.0, 671.0, 835.0, 867.0, 1661.0, 573.0, 305.0, 1281.0, 1736.0, 998.0, 575.0, 265.0, 871.0, 511.0, 870.0, 907.0, 371.0, -8.0, 1021.0, 1492.0, 586.0, 962.0, 188.0, 1295.0, 750.0, 1491.0, 1177.0, 964.0, 731.0, 477.0, 628.0, 800.0, 1180.0, 924.0, 644.0, 923.0, 854.0, 611.0, 864.0, 1083.0, 952.0, 1005.0, 730.0, 636.0, 205.0, 903.0, -10.0, 935.0, 872.0, 222.0, 946.0, 786.0, 732.0, 843.0, 650.0, 439.0, 639.0, -258.0, 745.0, 1157.0, 723.0, 956.0, 776.0, 867.0, 870.0, 328.0, 415.0, 1019.0, 921.0, 748.0, 872.0, 1403.0, 551.0, 681.0, 583.0, 64.0, 665.0, 841.0, 953.0, 170.0, 1050.0, 624.0, 880.0, 908.0, -560.0, 915.0, 856.0, 873.0, 655.0, 762.0, 931.0, 726.0, 407.0, 1386.0, 714.0, 885.0, 721.0, 1181.0, 1314.0, 1437.0, 608.0, 909.0, 653.0, 822.0, 7.0, 289.0, 825.0, 870.0, 1248.0, 975.0, 792.0, 513.0, 1144.0, 926.0, 521.0, 1277.0, 1062.0, 1047.0, 1219.0, 722.0, 1189.0, 419.0, 1134.0, 860.0, 1336.0, 1074.0, 941.0, 925.0, 1080.0, 316.0, 249.0, 678.0, 656.0, 980.0, 798.0, 792.0, 563.0, 1009.0, 1055.0, 177.0, 534.0, 979.0, 1010.0, 30.0, 662.0, 1073.0, 988.0, 843.0, 686.0, 1335.0, 923.0, 990.0, 993.0, 862.0, 712.0, 870.0, 928.0, 939.0, 875.0, 694.0, 988.0, 508.0, 592.0, 618.0, 1012.0, 907.0, 968.0, 842.0, 855.0, 859.0, 1137.0, 1256.0, 387.0, 296.0, 565.0, 1251.0, 975.0, 943.0, 233.0, 987.0, 842.0, 507.0, 694.0, 975.0, 1524.0, 805.0, 718.0, 380.0, 924.0, 414.0, 612.0, 771.0, 1098.0, 779.0, 762.0, 746.0, 308.0, 805.0, 776.0, 614.0, 834.0, 786.0, 592.0, 706.0, 989.0, 792.0, 793.0, 770.0, 566.0, 441.0, 750.0, 942.0, 668.0, 1012.0, 1067.0, 892.0, 903.0, 734.0, 794.0, 1001.0, 708.0, 668.0, 1290.0, 1037.0, 838.0, 336.0, 763.0, 953.0, 707.0, 1241.0, 1045.0, 733.0, 758.0, 674.0, 1144.0, 987.0, 886.0, 1084.0, 645.0, 944.0, 814.0, 697.0, 935.0, 812.0, 804.0, 807.0, 945.0, 906.0, 640.0, 1009.0, 842.0, 709.0, 921.0, 1118.0, 804.0, 996.0, 707.0, 930.0, 606.0, 1024.0, 1000.0, 970.0, 1068.0, 788.0, 913.0, 506.0, 846.0, 776.0, 710.0, 821.0, 468.0, 699.0, 937.0, 808.0, 858.0, 857.0, 696.0, 880.0, 717.0, 547.0, 934.0, 877.0, 913.0, 921.0, 970.0, 976.0, 906.0, 1143.0, 1182.0, 419.0, 1093.0, 905.0, 1082.0, 951.0, 984.0, 1001.0, 794.0, 760.0, 938.0, 804.0, 969.0, 941.0, 987.0, 958.0, 992.0, 606.0, 992.0]\n"
     ]
    }
   ],
   "source": [
    "print(list(pitcherElos.values()))"
   ]
  },
  {
   "cell_type": "code",
   "execution_count": 185,
   "metadata": {},
   "outputs": [],
   "source": [
    "# Create dictionaries to convert player names and ids\n",
    "IDtoName = {}\n",
    "NametoID = {}\n",
    "# Get all the unique players\n",
    "temp = Outcomes[[\"player_name\", \"pitcher\"]].groupby(by = \"pitcher\", as_index = False).first()\n",
    "\n",
    "for i in range(len(temp)):\n",
    "    IDtoName[temp[\"pitcher\"].iloc[i]] = temp[\"player_name\"].iloc[i]\n",
    "    NametoID[temp[\"player_name\"].iloc[i]] = temp[\"pitcher\"].iloc[i]"
   ]
  },
  {
   "cell_type": "code",
   "execution_count": 186,
   "metadata": {},
   "outputs": [],
   "source": [
    "# Create a dictionary to convert the player ID's to names\n",
    "def PlayerIDtoName(id):\n",
    "    return(IDtoName[id])\n",
    "\n",
    "# Create a function to convert player's name to ID\n",
    "def PlayerNametoID(name):\n",
    "    return(NametoID[name])"
   ]
  },
  {
   "cell_type": "code",
   "execution_count": 187,
   "metadata": {},
   "outputs": [],
   "source": [
    "def PredictWinner(pitcherID, batterID):\n",
    "    # Get the elos of both players\n",
    "    probPWins = ProbPitcherWins(pitcherID, batterID)\n",
    "    print(\"Batter Elo:\", batterElos[batterID])\n",
    "    print(\"Pitcher Elo:\", pitcherElos[pitcherID])\n",
    "    print(\"The probability that the pitcher wins is\", probPWins)\n",
    "    \n",
    "    # Find the actual historical data on who won the at-bat\n",
    "    histData = histResults[(pitcherID, batterID)]\n",
    "    percentPWon = histData[0] / np.sum(histData)\n",
    "    print(\"The percentage of at-bat appearances the pitcher won is\", percentPWon)"
   ]
  },
  {
   "cell_type": "code",
   "execution_count": 188,
   "metadata": {},
   "outputs": [
    {
     "name": "stdout",
     "output_type": "stream",
     "text": [
      "Batter Elo: 998.0\n",
      "Pitcher Elo: 40.0\n",
      "The probability that the pitcher wins is 0.09922401559166462\n",
      "The percentage of at-bat appearances the pitcher won is 0.5714285714285714\n",
      "Batter Elo: 998.0\n",
      "Pitcher Elo: 962.0\n",
      "The probability that the pitcher wins is 0.47928859226066334\n",
      "The percentage of at-bat appearances the pitcher won is 0.6666666666666666\n",
      "Batter Elo: 998.0\n",
      "Pitcher Elo: 1491.0\n",
      "The probability that the pitcher wins is 0.75679256105886\n",
      "The percentage of at-bat appearances the pitcher won is 0.7777777777777778\n"
     ]
    }
   ],
   "source": [
    "PredictWinner(433587.0, 134181.0)\n",
    "PredictWinner(592811.0, 134181.0)\n",
    "PredictWinner(543037.0, 134181.0)"
   ]
  },
  {
   "cell_type": "code",
   "execution_count": 189,
   "metadata": {
    "scrolled": false
   },
   "outputs": [
    {
     "data": {
      "text/plain": [
       "(array([  1.,   1.,   2.,   7.,  17.,  48., 137., 334., 123.,  15.]),\n",
       " array([-2006. , -1618.8, -1231.6,  -844.4,  -457.2,   -70. ,   317.2,\n",
       "          704.4,  1091.6,  1478.8,  1866. ]),\n",
       " <a list of 10 Patch objects>)"
      ]
     },
     "execution_count": 189,
     "metadata": {},
     "output_type": "execute_result"
    },
    {
     "data": {
      "image/png": "[encoded data removed]",
      "text/plain": [
       "<Figure size 864x576 with 2 Axes>"
      ]
     },
     "metadata": {
      "needs_background": "light"
     },
     "output_type": "display_data"
    }
   ],
   "source": [
    "fig, ax = plt.subplots(1, 2, figsize = (12, 8))\n",
    "ax[0].hist(batterElos.values())\n",
    "ax[1].hist(pitcherElos.values())"
   ]
  },
  {
   "cell_type": "code",
   "execution_count": 190,
   "metadata": {},
   "outputs": [
    {
     "data": {
      "text/plain": [
       "(array([  1.,   1.,   2.,   7.,  17.,  48., 137., 334., 123.,  15.]),\n",
       " array([-0.01576809, -0.01358559, -0.01140309, -0.00922059, -0.00703809,\n",
       "        -0.00485559, -0.00267309, -0.00049059,  0.00169191,  0.00387441,\n",
       "         0.00605691]),\n",
       " <a list of 10 Patch objects>)"
      ]
     },
     "execution_count": 190,
     "metadata": {},
     "output_type": "execute_result"
    },
    {
     "data": {
      "image/png": "[encoded data removed]",
      "text/plain": [
       "<Figure size 864x576 with 2 Axes>"
      ]
     },
     "metadata": {
      "needs_background": "light"
     },
     "output_type": "display_data"
    }
   ],
   "source": [
    "# Scale the data so mean is 0 and variance is 1\n",
    "bats = list(batterElos.values())\n",
    "meanBats = np.mean(bats)\n",
    "varBats = np.var(bats)\n",
    "newBats = (bats - meanBats) / varBats\n",
    "\n",
    "pits = list(pitcherElos.values())\n",
    "meanPits = np.mean(pits)\n",
    "varPits = np.var(pits)\n",
    "newPits = (pits - meanPits) / varPits\n",
    "\n",
    "fig, ax = plt.subplots(1, 2, figsize = (12, 8))\n",
    "ax[0].hist(newBats)\n",
    "ax[1].hist(newPits)"
   ]
  },
  {
   "cell_type": "code",
   "execution_count": 191,
   "metadata": {},
   "outputs": [
    {
     "data": {
      "text/plain": [
       "(array([  2.,   4.,  34., 362., 815.,  67.,  20.,   7.,   5.,   2.]),\n",
       " array([-2006. , -1328.4,  -650.8,    26.8,   704.4,  1382. ,  2059.6,\n",
       "         2737.2,  3414.8,  4092.4,  4770. ]),\n",
       " <a list of 10 Patch objects>)"
      ]
     },
     "execution_count": 191,
     "metadata": {},
     "output_type": "execute_result"
    },
    {
     "data": {
      "image/png": "[encoded data removed]",
      "text/plain": [
       "<Figure size 432x432 with 1 Axes>"
      ]
     },
     "metadata": {
      "needs_background": "light"
     },
     "output_type": "display_data"
    }
   ],
   "source": [
    "fig, ax = plt.subplots(1, 1, figsize = (6, 6))\n",
    "total = list(batterElos.values()) + list(pitcherElos.values())\n",
    "ax.hist(total)"
   ]
  },
  {
   "cell_type": "code",
   "execution_count": null,
   "metadata": {},
   "outputs": [],
   "source": []
  },
  {
   "cell_type": "code",
   "execution_count": null,
   "metadata": {},
   "outputs": [],
   "source": []
  }
 ],
 "metadata": {
  "kernelspec": {
   "display_name": "Python 3",
   "language": "python",
   "name": "python3"
  },
  "language_info": {
   "codemirror_mode": {
    "name": "ipython",
    "version": 3
   },
   "file_extension": ".py",
   "mimetype": "text/x-python",
   "name": "python",
   "nbconvert_exporter": "python",
   "pygments_lexer": "ipython3",
   "version": "3.6.3"
  }
 },
 "nbformat": 4,
 "nbformat_minor": 2
}
