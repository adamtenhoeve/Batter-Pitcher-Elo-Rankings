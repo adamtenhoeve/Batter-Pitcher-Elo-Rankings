{
 "cells": [
  {
   "cell_type": "markdown",
   "metadata": {},
   "source": [
    "**CSCI 4831: Sabermetrics Final Project**  \n",
    "Name: Adam Ten Hoeve"
   ]
  },
  {
   "cell_type": "code",
   "execution_count": 1,
   "metadata": {},
   "outputs": [],
   "source": [
    "import numpy as np\n",
    "import pandas as pd\n",
    "import matplotlib.pyplot as plt\n",
    "%matplotlib inline"
   ]
  },
  {
   "cell_type": "markdown",
   "metadata": {},
   "source": [
    "In this juptyer notebook, we will attempt to calculate a statistic for batter-pitcher matchups, similar to an elo ranking, that we can then use to predict the outcome of future matchups. We will be using statcast data from 2016 - 2018 to get a wide range of pitcher and batters, as well as enough at-bats for each batter-pitcher pair to get reasonable outcome probabilities."
   ]
  },
  {
   "cell_type": "code",
   "execution_count": 2,
   "metadata": {},
   "outputs": [
    {
     "name": "stderr",
     "output_type": "stream",
     "text": [
      "D:\\Anaconda\\lib\\site-packages\\IPython\\core\\interactiveshell.py:2698: DtypeWarning: Columns (18) have mixed types. Specify dtype option on import or set low_memory=False.\n",
      "  interactivity=interactivity, compiler=compiler, result=result)\n",
      "D:\\Anaconda\\lib\\site-packages\\ipykernel_launcher.py:20: FutureWarning: Sorting because non-concatenation axis is not aligned. A future version\n",
      "of pandas will change to not sort by default.\n",
      "\n",
      "To accept the future behavior, pass 'sort=False'.\n",
      "\n",
      "To retain the current behavior and silence the warning, pass 'sort=True'.\n",
      "\n",
      "D:\\Anaconda\\lib\\site-packages\\ipykernel_launcher.py:21: FutureWarning: Sorting because non-concatenation axis is not aligned. A future version\n",
      "of pandas will change to not sort by default.\n",
      "\n",
      "To accept the future behavior, pass 'sort=False'.\n",
      "\n",
      "To retain the current behavior and silence the warning, pass 'sort=True'.\n",
      "\n",
      "D:\\Anaconda\\lib\\site-packages\\ipykernel_launcher.py:23: FutureWarning: Sorting because non-concatenation axis is not aligned. A future version\n",
      "of pandas will change to not sort by default.\n",
      "\n",
      "To accept the future behavior, pass 'sort=False'.\n",
      "\n",
      "To retain the current behavior and silence the warning, pass 'sort=True'.\n",
      "\n"
     ]
    }
   ],
   "source": [
    "# Read in all of the statcast data\n",
    "df2016 = pd.read_csv(\"2016/data2016.csv\")\n",
    "\n",
    "april2017 = pd.read_csv(\"2017/dataApril2017.csv\")\n",
    "may2017 = pd.read_csv(\"2017/dataMay2017.csv\")\n",
    "june2017 = pd.read_csv(\"2017/dataJune2017.csv\")\n",
    "july2017 = pd.read_csv(\"2017/dataJuly2017.csv\")\n",
    "aug2017 = pd.read_csv(\"2017/dataAug2017.csv\")\n",
    "sept2017 = pd.read_csv(\"2017/dataSept2017.csv\")\n",
    "oct2017 = pd.read_csv(\"2017/dataOct2017.csv\")\n",
    "\n",
    "april2018 = pd.read_csv(\"2018/dataApril2018.csv\")\n",
    "may2018 = pd.read_csv(\"2018/dataMay2018.csv\")\n",
    "june2018 = pd.read_csv(\"2018/dataJune2018.csv\")\n",
    "july2018 = pd.read_csv(\"2018/dataJuly2018.csv\")\n",
    "aug2018 = pd.read_csv(\"2018/dataAug2018.csv\")\n",
    "sept2018 = pd.read_csv(\"2018/dataSept2018.csv\")\n",
    "oct2018 = pd.read_csv(\"2018/dataOct2018.csv\")\n",
    "\n",
    "df2017 = pd.concat([april2017, may2017, june2017, july2017, aug2017, sept2017, oct2017])\n",
    "df2018 = pd.concat([april2018, may2018, june2018, july2018, aug2018, sept2018, oct2018])\n",
    "\n",
    "dfTotal = pd.concat([df2016, df2017, df2018])\n",
    "# dfTotal = df2018.copy()"
   ]
  },
  {
   "cell_type": "markdown",
   "metadata": {},
   "source": [
    "First off, we need to clean the data. Lets get rid of anyone that has less that 100 pitches or 100 at-bats. This should significantly reduce the size of the data by getting rid of the all the extraneous batters and pitchers who don't have significant numbers around them."
   ]
  },
  {
   "cell_type": "code",
   "execution_count": 3,
   "metadata": {},
   "outputs": [],
   "source": [
    "# Clean the data. \n",
    "# Group by pitcher. Get rid of anyone who pitched less than 100 times in the three years.\n",
    "dfTempPitch = dfTotal.groupby(\"player_name\", as_index = False).count()\n",
    "dfTempPitch = dfTempPitch.loc[dfTempPitch[\"index\"] > 100]\n",
    "# Then group by batter to get rid of any batters who batted less than 100 times.\n",
    "dfTempBat = dfTotal.groupby(\"batter\", as_index = False).count()\n",
    "dfTempBat = dfTempBat.loc[dfTempBat[\"index\"] > 100]\n",
    "\n",
    "# Create a database of pitchers \n",
    "dfPitchers = pd.merge(dfTotal, dfTempPitch[[\"player_name\"]], on = \"player_name\", how = \"inner\")\n",
    "# Create a database of batters\n",
    "dfBatters = pd.merge(dfTotal, dfTempBat[[\"batter\"]], on = \"batter\", how = \"inner\")\n",
    "\n",
    "# Create a final dataframe of the cleaned batter and pitcher data\n",
    "dfFinal = pd.merge(dfPitchers, dfBatters[[\"index\", \"pitcher\", \"batter\", \"release_speed\", \"strikes\", \"balls\"]], on = [\"index\", \"pitcher\", \"batter\", \"release_speed\", \"strikes\", \"balls\"], how = \"inner\")"
   ]
  },
  {
   "cell_type": "markdown",
   "metadata": {},
   "source": [
    "Now, we want to look at the outcome of the plate appearance to determine if the pitcher or the batter \"wins.\" Thankfully, Statcast has an \"events\" column that records significant events during that plate appearance. Because we don't need to know the events that led up to the eventual outcome of the plate appearance, we can again reduce the size of our data by getting rid of any columns that do not have an event tag. Note that we are ignoring some events in the data such as stolen bases as they do not directly correlate to that batter-pitcher matchup."
   ]
  },
  {
   "cell_type": "code",
   "execution_count": 4,
   "metadata": {},
   "outputs": [],
   "source": [
    "# A list of events of the batter either striking out or hitting the ball into play.\n",
    "events = [\"strikeout\", \"strikeout_double_play\", \"single\", \"double\", \"triple\", \"home_run\", \"sac_bunt\", \"sac_fly\", \"field_out\", \"field_error\", \"double_play\", \"grounded_into_double_play\", \"sac_fly_double_play\", \"triple_play\", \"walk\", \"hit_by_pitch\"]\n",
    "# Get rid of all the rows of data that don't have one of the events listed.\n",
    "Outcomes = dfFinal.loc[dfFinal[\"events\"].isin(events)]"
   ]
  },
  {
   "cell_type": "markdown",
   "metadata": {},
   "source": [
    "In order to get a better idea about the outcomes of the plate appearances, let's calculate the proportion of each type of event."
   ]
  },
  {
   "cell_type": "code",
   "execution_count": 5,
   "metadata": {},
   "outputs": [
    {
     "data": {
      "text/html": [
       "<div>\n",
       "<style scoped>\n",
       "    .dataframe tbody tr th:only-of-type {\n",
       "        vertical-align: middle;\n",
       "    }\n",
       "\n",
       "    .dataframe tbody tr th {\n",
       "        vertical-align: top;\n",
       "    }\n",
       "\n",
       "    .dataframe thead th {\n",
       "        text-align: right;\n",
       "    }\n",
       "</style>\n",
       "<table border=\"1\" class=\"dataframe\">\n",
       "  <thead>\n",
       "    <tr style=\"text-align: right;\">\n",
       "      <th></th>\n",
       "      <th>events</th>\n",
       "      <th>index</th>\n",
       "      <th>proportion</th>\n",
       "    </tr>\n",
       "  </thead>\n",
       "  <tbody>\n",
       "    <tr>\n",
       "      <th>0</th>\n",
       "      <td>double</td>\n",
       "      <td>24415</td>\n",
       "      <td>0.046200</td>\n",
       "    </tr>\n",
       "    <tr>\n",
       "      <th>1</th>\n",
       "      <td>double_play</td>\n",
       "      <td>1306</td>\n",
       "      <td>0.002471</td>\n",
       "    </tr>\n",
       "    <tr>\n",
       "      <th>2</th>\n",
       "      <td>field_error</td>\n",
       "      <td>4635</td>\n",
       "      <td>0.008771</td>\n",
       "    </tr>\n",
       "    <tr>\n",
       "      <th>3</th>\n",
       "      <td>field_out</td>\n",
       "      <td>216922</td>\n",
       "      <td>0.410475</td>\n",
       "    </tr>\n",
       "    <tr>\n",
       "      <th>4</th>\n",
       "      <td>grounded_into_double_play</td>\n",
       "      <td>10725</td>\n",
       "      <td>0.020295</td>\n",
       "    </tr>\n",
       "    <tr>\n",
       "      <th>5</th>\n",
       "      <td>hit_by_pitch</td>\n",
       "      <td>5231</td>\n",
       "      <td>0.009898</td>\n",
       "    </tr>\n",
       "    <tr>\n",
       "      <th>6</th>\n",
       "      <td>home_run</td>\n",
       "      <td>16975</td>\n",
       "      <td>0.032121</td>\n",
       "    </tr>\n",
       "    <tr>\n",
       "      <th>7</th>\n",
       "      <td>sac_bunt</td>\n",
       "      <td>2532</td>\n",
       "      <td>0.004791</td>\n",
       "    </tr>\n",
       "    <tr>\n",
       "      <th>8</th>\n",
       "      <td>sac_fly</td>\n",
       "      <td>3492</td>\n",
       "      <td>0.006608</td>\n",
       "    </tr>\n",
       "    <tr>\n",
       "      <th>9</th>\n",
       "      <td>sac_fly_double_play</td>\n",
       "      <td>56</td>\n",
       "      <td>0.000106</td>\n",
       "    </tr>\n",
       "    <tr>\n",
       "      <th>10</th>\n",
       "      <td>single</td>\n",
       "      <td>79236</td>\n",
       "      <td>0.149936</td>\n",
       "    </tr>\n",
       "    <tr>\n",
       "      <th>11</th>\n",
       "      <td>strikeout</td>\n",
       "      <td>117061</td>\n",
       "      <td>0.221511</td>\n",
       "    </tr>\n",
       "    <tr>\n",
       "      <th>12</th>\n",
       "      <td>strikeout_double_play</td>\n",
       "      <td>450</td>\n",
       "      <td>0.000852</td>\n",
       "    </tr>\n",
       "    <tr>\n",
       "      <th>13</th>\n",
       "      <td>triple</td>\n",
       "      <td>2464</td>\n",
       "      <td>0.004663</td>\n",
       "    </tr>\n",
       "    <tr>\n",
       "      <th>14</th>\n",
       "      <td>triple_play</td>\n",
       "      <td>16</td>\n",
       "      <td>0.000030</td>\n",
       "    </tr>\n",
       "    <tr>\n",
       "      <th>15</th>\n",
       "      <td>walk</td>\n",
       "      <td>42950</td>\n",
       "      <td>0.081273</td>\n",
       "    </tr>\n",
       "  </tbody>\n",
       "</table>\n",
       "</div>"
      ],
      "text/plain": [
       "                       events   index  proportion\n",
       "0                      double   24415    0.046200\n",
       "1                 double_play    1306    0.002471\n",
       "2                 field_error    4635    0.008771\n",
       "3                   field_out  216922    0.410475\n",
       "4   grounded_into_double_play   10725    0.020295\n",
       "5                hit_by_pitch    5231    0.009898\n",
       "6                    home_run   16975    0.032121\n",
       "7                    sac_bunt    2532    0.004791\n",
       "8                     sac_fly    3492    0.006608\n",
       "9         sac_fly_double_play      56    0.000106\n",
       "10                     single   79236    0.149936\n",
       "11                  strikeout  117061    0.221511\n",
       "12      strikeout_double_play     450    0.000852\n",
       "13                     triple    2464    0.004663\n",
       "14                triple_play      16    0.000030\n",
       "15                       walk   42950    0.081273"
      ]
     },
     "execution_count": 5,
     "metadata": {},
     "output_type": "execute_result"
    }
   ],
   "source": [
    "# Calculate the proportion of each type of event. Will be used to calculate the weight of certain outcomes.\n",
    "OutcomesProp = Outcomes.groupby(\"events\", as_index = False).count()\n",
    "numEvents = len(Outcomes)\n",
    "OutcomesProp[\"proportion\"] = OutcomesProp[\"index\"] / numEvents\n",
    "OutcomesProp = OutcomesProp[[\"events\", \"index\", \"proportion\"]]\n",
    "OutcomesProp"
   ]
  },
  {
   "cell_type": "markdown",
   "metadata": {},
   "source": [
    "From this table, we can see that the majority of outcomes are field outs, which are a win for the pitcher. Following after are strikeouts and singles. Something important to note from this table is that the ratio of pitcher wins to batter wins is very skewed towards the pitcher because of that high percentage of field outs. We can see that, with that in the data, pitchers win about 65%-70% of the time. If we were to ignore field outs from the calculation, then pitchers would only win 30%-35% of the time. This skew in the data could have a large impact on the resulting elo calculations."
   ]
  },
  {
   "cell_type": "markdown",
   "metadata": {},
   "source": [
    "Now that we have our cleaned data, we can start calculating elo scores for the players. We will start by initializing two libraries to hold our elo scores, one of pitchers and one of batters. The player's ID will be the key and their score is the value. Like in the elo equations from chess, we will initizialize the values to 1000. This value will change as we begin to iterate over the data. Later, we will create another dictionary to hold counts of the actual results of the plate appearances. This will be used to test against our elo ranking system later."
   ]
  },
  {
   "cell_type": "code",
   "execution_count": 44,
   "metadata": {},
   "outputs": [],
   "source": [
    "# Create a dictionary of all batters and pitchers\n",
    "batterElos = {}\n",
    "pitcherElos = {}\n",
    "\n",
    "# ids = list(Outcomes[\"pitcher\"].unique()) + list(Outcomes[\"batter\"].unique())\n",
    "for id in list(Outcomes[\"pitcher\"].unique()):\n",
    "    pitcherElos[id] = 1000\n",
    "for id in list(Outcomes[\"batter\"].unique()):\n",
    "    batterElos[id] = 1000\n",
    "    \n",
    "histResults = {}\n",
    "    \n",
    "# Create a list of pitcher-favored outcomes.\n",
    "pitcherFavored = [\"strikeout\", \"strikeout_double_play\", \"field_out\", \"double_play\", \"grounded_into_double_play\", \"sac_fly_double_play\", \"triple_play\"]\n",
    "# Create a list of batter favored outcomes, meaning they did not get out by the end of the play.\n",
    "batterFavored = [\"single\", \"double\", \"triple\", \"home_run\", \"field_error\", \"walk\", \"hit_by_pitch\", \"sac_bunt\", \"sac_fly\"]"
   ]
  },
  {
   "cell_type": "markdown",
   "metadata": {},
   "source": [
    "Now, as mentioned earlier, the pitchers win about 60%-65% of the matchups. This is a problem for the normal elo ranking system. In chess, which elo was first designed for, if two players of equal ranking faced each other, then each player should have an equal chance of winning the match. In baseball, this is not true. Because of the inherent advantage of the defense as seen in the data, if a pitcher and a batter of equal skill were to face off, then the pitcher would win the plate appearance 60%-65% of the time. This makes calculating elo rankings much more difficult. Below are a few ways I tried to adjust for this in the calculations.\n",
    "\n",
    "The first way is the simplist, which weights scores based on the probability of winning. Basically, the decreased chance of a batter winning is counteracted by the batters winning more points when they do win. This weight is such that it gets the percieved outcome proportions to about 50% for batters, 50% for pitchers. For example, if a batter loses the plate appearance and would lose 10 points, instead they lose 8 points because they were more likely to lose. But if the batter won, instead of winning 10 pionts, they would actually win 12 points, again because they were less likely to win. The pitcher's score always changes by the same amount as the batter's.\n",
    "\n",
    "The second way is much more complicated and did not work at all, but I thought it would I would keep it in to show what I tried. The second way doesn't weight the overall outcome, but rather specific events, similar to wOBA. In this way, if the batter scored a home run, they would get more points than if they scored a single. Again, this was aimed at getting the eventual probabilies to be about 50% for each. And this was really hard. There was far too many moving parts, it didn't improve the calculated predictions and it felt more like I was guessing at weights rather than using proper statistics. \n",
    "\n",
    "The last main way that I tried was using transformations to unskew the data. After testing methods like logarithms, square roots, centering and scaling, nothing seemed to yield tangible results."
   ]
  },
  {
   "cell_type": "code",
   "execution_count": 45,
   "metadata": {},
   "outputs": [
    {
     "name": "stdout",
     "output_type": "stream",
     "text": [
      "Proportion of batter wins to pitcher wins: 0.3442605579166872 : 0.6557394420833128\n",
      "Weights calculated to make win proportions about 50%. Batter: 1.4523882812070577  Pitcher: 0.7624979800078492\n"
     ]
    }
   ],
   "source": [
    "def PercentOnBase(row):\n",
    "    if row[\"events\"] in batterFavored:\n",
    "        return 1\n",
    "    return 0\n",
    "\n",
    "# Find how often batters get on base\n",
    "total = len(Outcomes)\n",
    "propBatterWins = np.sum(Outcomes.apply(PercentOnBase, axis = 1)) / total\n",
    "propPitchWins = 1 - propBatterWins\n",
    "\n",
    "print(\"Proportion of batter wins to pitcher wins:\", propBatterWins, \":\", propPitchWins)\n",
    "\n",
    "# Batters only \"win\" about 35% of the time. So weight the eventual scores so it's as if they win 50% of the time.\n",
    "# Way better than the old system of weighting scores individually\n",
    "batterWeight = 0.5 / propBatterWins\n",
    "pitcherWeight = 0.5 / propPitchWins\n",
    "\n",
    "print(\"Weights calculated to make win proportions about 50%. Batter:\", batterWeight,\" Pitcher:\", pitcherWeight)"
   ]
  },
  {
   "cell_type": "code",
   "execution_count": 46,
   "metadata": {},
   "outputs": [],
   "source": [
    "# Determines the weight on the elo based on the type of event.\n",
    "# Used to balance the proportion of pitcher-wins to batter-wins.\n",
    "# Otherwise pitchers win about 70% of the time and dominate the scores\n",
    "def EloEventWeight(event):\n",
    "    # If that event occured\n",
    "    if event == \"strikeout\":\n",
    "        # Return the prob of that event times the assigned weight based on impact\n",
    "        # All weights have are *2 what they normally are to speed up processing by preventing floating point arithmetic.\n",
    "        return OutcomesProp.loc[OutcomesProp[\"events\"] == \"strikeout\"][\"proportion\"] * 2\n",
    "    elif event == \"field_out\":\n",
    "        return OutcomesProp.loc[OutcomesProp[\"events\"] == \"field_out\"][\"proportion\"] * 1\n",
    "    elif event == \"double_play\":\n",
    "        return OutcomesProp.loc[OutcomesProp[\"events\"] == \"double_play\"][\"proportion\"] * 4\n",
    "    elif event == \"grounded_into_double_play\":\n",
    "        return OutcomesProp.loc[OutcomesProp[\"events\"] == \"grounded_into_double_play\"][\"proportion\"] * 4\n",
    "    elif event == \"strikeout_double_play\":\n",
    "        return OutcomesProp.loc[OutcomesProp[\"events\"] == \"strikeout_double_play\"][\"proportion\"] * 4\n",
    "    elif event == \"triple_play\":\n",
    "        return OutcomesProp.loc[OutcomesProp[\"events\"] == \"triple_play\"][\"proportion\"] * 6\n",
    "    elif event == \"sac_fly_double_play\":\n",
    "        return OutcomesProp.loc[OutcomesProp[\"events\"] == \"sac_fly_double_play\"][\"proportion\"] * 2\n",
    "    elif event == \"single\":\n",
    "        return OutcomesProp.loc[OutcomesProp[\"events\"] == \"single\"][\"proportion\"] * 2\n",
    "    elif event == \"double\":\n",
    "        return OutcomesProp.loc[OutcomesProp[\"events\"] == \"double\"][\"proportion\"] * 4\n",
    "    elif event == \"triple\":\n",
    "        return OutcomesProp.loc[OutcomesProp[\"events\"] == \"triple\"][\"proportion\"] * 6\n",
    "    elif event == \"home_run\":\n",
    "        return OutcomesProp.loc[OutcomesProp[\"events\"] == \"home_run\"][\"proportion\"] * 8\n",
    "    elif event == \"sac_bunt\":\n",
    "        return OutcomesProp.loc[OutcomesProp[\"events\"] == \"sac_bunt\"][\"proportion\"] * 2\n",
    "    elif event == \"sac_fly\":\n",
    "        return OutcomesProp.loc[OutcomesProp[\"events\"] == \"sac_fly\"][\"proportion\"] * 2\n",
    "    elif event == \"field_error\":\n",
    "        return OutcomesProp.loc[OutcomesProp[\"events\"] == \"field_error\"][\"proportion\"] * 2\n",
    "    elif event == \"walk\":\n",
    "        return OutcomesProp.loc[OutcomesProp[\"events\"] == \"walk\"][\"proportion\"] * 2\n",
    "    elif event == \"hit_by_pitch\":\n",
    "        return OutcomesProp.loc[OutcomesProp[\"events\"] == \"hit_by_pitch\"][\"proportion\"] * 2\n",
    "    else:\n",
    "        # something got through that wasn't supposed to get through\n",
    "        print(event)\n",
    "        return 0"
   ]
  },
  {
   "cell_type": "markdown",
   "metadata": {},
   "source": [
    "We have our data and our libraries, we now need to apply our ranking system. Below is the first equation in the elo system. It follows the form:\n",
    "\n",
    "$$ P(\\text{pitcher wins}) = \\dfrac{1}{(1 + 10^{(R_B - R_P)/1000})} $$\n",
    "\n",
    "where $R_B$ is the batter's rank and $R_P$ is the pitcher's rank. In this form, a player that has 1000 more points than another player is 10 times more likely to win the matchup.\n",
    "\n",
    "The second equation we need is a way to update scores base on the outcomes of the matches. This equation is:\n",
    "\n",
    "$$ \\text{New Rating} = \\text{Rating} + 32(\\text{outcome} - \\text{probability of outcome}) $$\n",
    "\n",
    "where the outcome is either a 0 or 1, whether they won or lost, and the probability of the outcome comes from the first equation. The 32 is the maximum amount a value can change in a single plate appearance. We will define these equations as functions then we can apply our elo ranking system to the statcast data."
   ]
  },
  {
   "cell_type": "code",
   "execution_count": 47,
   "metadata": {},
   "outputs": [],
   "source": [
    "# Create a function to calculate the probability a pitcher wins the matchup\n",
    "def ProbPitcherWins(pitcher, batter):\n",
    "    # Get ranking of pitcher and batter\n",
    "    pitcherRank = pitcherElos[pitcher]\n",
    "    batterRank = batterElos[batter]\n",
    "    # From elo rankings. Assumes a difference of 400 is the same as 1 player being 10 times as likely to win\n",
    "    probPitcherWins = 1 / (1 + 10**((batterRank - pitcherRank)/1000))\n",
    "    return probPitcherWins"
   ]
  },
  {
   "cell_type": "code",
   "execution_count": 48,
   "metadata": {},
   "outputs": [],
   "source": [
    "# Function to update the scores of players based on the results of pitches\n",
    "def UpdateElo(row):\n",
    "    p = row[\"pitcher\"]\n",
    "    b = row[\"batter\"]\n",
    "    # Get the probability that the pitcher wins from the function above\n",
    "    prob = ProbPitcherWins(p, b)\n",
    "    \n",
    "    # Add the matchup to the dictionary if it doesn't exist\n",
    "    if (p, b) not in histResults.keys():\n",
    "        histResults[(p, b)] = np.array([0, 0])\n",
    "    \n",
    "    # Update the ratings based on the outcome of the pitch\n",
    "    # If pitcher \"wins\" the matchup\n",
    "    if row[\"events\"] in pitcherFavored:\n",
    "        # Weighted to get outcome proportions to 50%\n",
    "        pitcherElos[p] = np.floor(pitcherElos[p] + (32 * pitcherWeight * (1 - prob)))\n",
    "        batterElos[b] = np.floor(batterElos[b] + (32 * pitcherWeight * (prob - 1)))\n",
    "        # Weighted by each type of outcome\n",
    "#         pitcherElos[p] = np.floor(pitcherElos[p] + (16 * EloEventWeight(row[\"events\"]) * (1 - prob)))\n",
    "#         batterElos[p] = np.floor(batterElos[b] + (16 * EloEventWeight(row[\"events\"]) * (prob - 1)))\n",
    "        # Unweighted Outcomes\n",
    "#         pitcherElos[p] = np.floor(pitcherElos[p] + (32 * (1 - prob)))\n",
    "#         batterElos[b] = np.floor(batterElos[b] + (32 * (prob - 1)))\n",
    "        histResults[(p, b)] = histResults[(p, b)] + np.array([1, 0])\n",
    "    # If the batter wins the matchup\n",
    "    else:\n",
    "        # Weighted to get outcome proportions to 50%\n",
    "        pitcherElos[p] = np.floor(pitcherElos[p] + (32 * batterWeight * (prob - 1)))\n",
    "        batterElos[b] = np.floor(batterElos[b] + (32 * batterWeight * (1 - prob)))\n",
    "        # Weighted by type of outcome\n",
    "#         pitcherElos[p] = np.floor(pitcherElos[p] + (16 * EloEventWeight(row[\"events\"]) * (prob - 1)))\n",
    "#         batterElos[p] = np.floor(batterElos[b] + (16 * EloEventWeight(row[\"events\"]) * (1 - prob)))\n",
    "        # Unweighted\n",
    "#         pitcherElos[p] = np.floor(pitcherElos[p] + (32 * (prob - 1)))\n",
    "#         batterElos[b] = np.floor(batterElos[b] + (32 * (1 - prob)))\n",
    "        histResults[(p, b)] = histResults[(p, b)] + np.array([0, 1])"
   ]
  },
  {
   "cell_type": "markdown",
   "metadata": {},
   "source": [
    "We then apply these functions to every row in our dataset, as every row is an at bat. This will calculate the probability each player wins, update both player's score based on the difference between the result and the expected outcome probability, and store that new score in the library. For the later data analysis, I would recommend uncommenting a section and rerunning the apply function below to see how they affect the resulting scores."
   ]
  },
  {
   "cell_type": "code",
   "execution_count": 49,
   "metadata": {},
   "outputs": [],
   "source": [
    "Outcomes.apply(UpdateElo, axis = 1);"
   ]
  },
  {
   "cell_type": "code",
   "execution_count": 77,
   "metadata": {},
   "outputs": [],
   "source": [
    "# Find the batters with the highest elo\n",
    "maxElos = [0] * 10\n",
    "maxPlayers = [0] * 10\n",
    "for i in batterElos:\n",
    "    if(batterElos[i] > min(maxElos)):\n",
    "        minIndex = maxElos.index(min(maxElos))\n",
    "        maxPlayers[minIndex] = i\n",
    "        maxElos[minIndex] = batterElos[i]"
   ]
  },
  {
   "cell_type": "code",
   "execution_count": 78,
   "metadata": {},
   "outputs": [
    {
     "name": "stdout",
     "output_type": "stream",
     "text": [
      "Gathering player lookup table. This may take a moment.\n"
     ]
    },
    {
     "data": {
      "text/html": [
       "<div>\n",
       "<style scoped>\n",
       "    .dataframe tbody tr th:only-of-type {\n",
       "        vertical-align: middle;\n",
       "    }\n",
       "\n",
       "    .dataframe tbody tr th {\n",
       "        vertical-align: top;\n",
       "    }\n",
       "\n",
       "    .dataframe thead th {\n",
       "        text-align: right;\n",
       "    }\n",
       "</style>\n",
       "<table border=\"1\" class=\"dataframe\">\n",
       "  <thead>\n",
       "    <tr style=\"text-align: right;\">\n",
       "      <th></th>\n",
       "      <th>name_last</th>\n",
       "      <th>name_first</th>\n",
       "      <th>key_mlbam</th>\n",
       "      <th>key_retro</th>\n",
       "      <th>key_bbref</th>\n",
       "      <th>key_fangraphs</th>\n",
       "      <th>mlb_played_first</th>\n",
       "      <th>mlb_played_last</th>\n",
       "      <th>elo</th>\n",
       "    </tr>\n",
       "  </thead>\n",
       "  <tbody>\n",
       "    <tr>\n",
       "      <th>0</th>\n",
       "      <td>altuve</td>\n",
       "      <td>jose</td>\n",
       "      <td>514888</td>\n",
       "      <td>altuj001</td>\n",
       "      <td>altuvjo01</td>\n",
       "      <td>5417</td>\n",
       "      <td>2011.0</td>\n",
       "      <td>2019.0</td>\n",
       "      <td>9563.0</td>\n",
       "    </tr>\n",
       "    <tr>\n",
       "      <th>1</th>\n",
       "      <td>betts</td>\n",
       "      <td>mookie</td>\n",
       "      <td>605141</td>\n",
       "      <td>bettm001</td>\n",
       "      <td>bettsmo01</td>\n",
       "      <td>13611</td>\n",
       "      <td>2014.0</td>\n",
       "      <td>2019.0</td>\n",
       "      <td>7071.0</td>\n",
       "    </tr>\n",
       "    <tr>\n",
       "      <th>2</th>\n",
       "      <td>bryant</td>\n",
       "      <td>kris</td>\n",
       "      <td>592178</td>\n",
       "      <td>bryak001</td>\n",
       "      <td>bryankr01</td>\n",
       "      <td>15429</td>\n",
       "      <td>2015.0</td>\n",
       "      <td>2019.0</td>\n",
       "      <td>7738.0</td>\n",
       "    </tr>\n",
       "    <tr>\n",
       "      <th>3</th>\n",
       "      <td>goldschmidt</td>\n",
       "      <td>paul</td>\n",
       "      <td>502671</td>\n",
       "      <td>goldp001</td>\n",
       "      <td>goldspa01</td>\n",
       "      <td>9218</td>\n",
       "      <td>2011.0</td>\n",
       "      <td>2019.0</td>\n",
       "      <td>8725.0</td>\n",
       "    </tr>\n",
       "    <tr>\n",
       "      <th>4</th>\n",
       "      <td>lemahieu</td>\n",
       "      <td>dj</td>\n",
       "      <td>518934</td>\n",
       "      <td>lemad001</td>\n",
       "      <td>lemahdj01</td>\n",
       "      <td>9874</td>\n",
       "      <td>2011.0</td>\n",
       "      <td>2019.0</td>\n",
       "      <td>6938.0</td>\n",
       "    </tr>\n",
       "    <tr>\n",
       "      <th>5</th>\n",
       "      <td>martinez</td>\n",
       "      <td>j. d.</td>\n",
       "      <td>502110</td>\n",
       "      <td>martj006</td>\n",
       "      <td>martijd02</td>\n",
       "      <td>6184</td>\n",
       "      <td>2011.0</td>\n",
       "      <td>2019.0</td>\n",
       "      <td>7383.0</td>\n",
       "    </tr>\n",
       "    <tr>\n",
       "      <th>6</th>\n",
       "      <td>trout</td>\n",
       "      <td>mike</td>\n",
       "      <td>545361</td>\n",
       "      <td>troum001</td>\n",
       "      <td>troutmi01</td>\n",
       "      <td>10155</td>\n",
       "      <td>2011.0</td>\n",
       "      <td>2019.0</td>\n",
       "      <td>12848.0</td>\n",
       "    </tr>\n",
       "    <tr>\n",
       "      <th>7</th>\n",
       "      <td>turner</td>\n",
       "      <td>justin</td>\n",
       "      <td>457759</td>\n",
       "      <td>turnj001</td>\n",
       "      <td>turneju01</td>\n",
       "      <td>5235</td>\n",
       "      <td>2009.0</td>\n",
       "      <td>2019.0</td>\n",
       "      <td>7139.0</td>\n",
       "    </tr>\n",
       "    <tr>\n",
       "      <th>8</th>\n",
       "      <td>votto</td>\n",
       "      <td>joey</td>\n",
       "      <td>458015</td>\n",
       "      <td>vottj001</td>\n",
       "      <td>vottojo01</td>\n",
       "      <td>4314</td>\n",
       "      <td>2007.0</td>\n",
       "      <td>2019.0</td>\n",
       "      <td>12618.0</td>\n",
       "    </tr>\n",
       "    <tr>\n",
       "      <th>9</th>\n",
       "      <td>yelich</td>\n",
       "      <td>christian</td>\n",
       "      <td>592885</td>\n",
       "      <td>yelic001</td>\n",
       "      <td>yelicch01</td>\n",
       "      <td>11477</td>\n",
       "      <td>2013.0</td>\n",
       "      <td>2019.0</td>\n",
       "      <td>6928.0</td>\n",
       "    </tr>\n",
       "  </tbody>\n",
       "</table>\n",
       "</div>"
      ],
      "text/plain": [
       "     name_last name_first  key_mlbam key_retro  key_bbref  key_fangraphs  \\\n",
       "0       altuve       jose     514888  altuj001  altuvjo01           5417   \n",
       "1        betts     mookie     605141  bettm001  bettsmo01          13611   \n",
       "2       bryant       kris     592178  bryak001  bryankr01          15429   \n",
       "3  goldschmidt       paul     502671  goldp001  goldspa01           9218   \n",
       "4     lemahieu         dj     518934  lemad001  lemahdj01           9874   \n",
       "5     martinez      j. d.     502110  martj006  martijd02           6184   \n",
       "6        trout       mike     545361  troum001  troutmi01          10155   \n",
       "7       turner     justin     457759  turnj001  turneju01           5235   \n",
       "8        votto       joey     458015  vottj001  vottojo01           4314   \n",
       "9       yelich  christian     592885  yelic001  yelicch01          11477   \n",
       "\n",
       "   mlb_played_first  mlb_played_last      elo  \n",
       "0            2011.0           2019.0   9563.0  \n",
       "1            2014.0           2019.0   7071.0  \n",
       "2            2015.0           2019.0   7738.0  \n",
       "3            2011.0           2019.0   8725.0  \n",
       "4            2011.0           2019.0   6938.0  \n",
       "5            2011.0           2019.0   7383.0  \n",
       "6            2011.0           2019.0  12848.0  \n",
       "7            2009.0           2019.0   7139.0  \n",
       "8            2007.0           2019.0  12618.0  \n",
       "9            2013.0           2019.0   6928.0  "
      ]
     },
     "execution_count": 78,
     "metadata": {},
     "output_type": "execute_result"
    }
   ],
   "source": [
    "from pybaseball import playerid_reverse_lookup\n",
    "\n",
    "dataB = playerid_reverse_lookup(maxPlayers, key_type='mlbam')\n",
    "dataB[\"elo\"] = 0\n",
    "for player in maxPlayers:\n",
    "    dataB.loc[dataB[\"key_mlbam\"] == player, \"elo\"] = batterElos[player]\n",
    "dataB"
   ]
  },
  {
   "cell_type": "code",
   "execution_count": 76,
   "metadata": {},
   "outputs": [
    {
     "name": "stdout",
     "output_type": "stream",
     "text": [
      "Gathering player lookup table. This may take a moment.\n"
     ]
    },
    {
     "data": {
      "text/html": [
       "<div>\n",
       "<style scoped>\n",
       "    .dataframe tbody tr th:only-of-type {\n",
       "        vertical-align: middle;\n",
       "    }\n",
       "\n",
       "    .dataframe tbody tr th {\n",
       "        vertical-align: top;\n",
       "    }\n",
       "\n",
       "    .dataframe thead th {\n",
       "        text-align: right;\n",
       "    }\n",
       "</style>\n",
       "<table border=\"1\" class=\"dataframe\">\n",
       "  <thead>\n",
       "    <tr style=\"text-align: right;\">\n",
       "      <th></th>\n",
       "      <th>name_last</th>\n",
       "      <th>name_first</th>\n",
       "      <th>key_mlbam</th>\n",
       "      <th>key_retro</th>\n",
       "      <th>key_bbref</th>\n",
       "      <th>key_fangraphs</th>\n",
       "      <th>mlb_played_first</th>\n",
       "      <th>mlb_played_last</th>\n",
       "      <th>elo</th>\n",
       "    </tr>\n",
       "  </thead>\n",
       "  <tbody>\n",
       "    <tr>\n",
       "      <th>0</th>\n",
       "      <td>buehler</td>\n",
       "      <td>walker</td>\n",
       "      <td>621111</td>\n",
       "      <td>buehw001</td>\n",
       "      <td>buehlwa01</td>\n",
       "      <td>19374</td>\n",
       "      <td>2017.0</td>\n",
       "      <td>2019.0</td>\n",
       "      <td>1789.0</td>\n",
       "    </tr>\n",
       "    <tr>\n",
       "      <th>1</th>\n",
       "      <td>degrom</td>\n",
       "      <td>jacob</td>\n",
       "      <td>594798</td>\n",
       "      <td>degrj001</td>\n",
       "      <td>degroja01</td>\n",
       "      <td>10954</td>\n",
       "      <td>2014.0</td>\n",
       "      <td>2019.0</td>\n",
       "      <td>1877.0</td>\n",
       "    </tr>\n",
       "    <tr>\n",
       "      <th>2</th>\n",
       "      <td>greinke</td>\n",
       "      <td>zack</td>\n",
       "      <td>425844</td>\n",
       "      <td>greiz001</td>\n",
       "      <td>greinza01</td>\n",
       "      <td>1943</td>\n",
       "      <td>2004.0</td>\n",
       "      <td>2019.0</td>\n",
       "      <td>1715.0</td>\n",
       "    </tr>\n",
       "    <tr>\n",
       "      <th>3</th>\n",
       "      <td>hader</td>\n",
       "      <td>josh</td>\n",
       "      <td>623352</td>\n",
       "      <td>hadej001</td>\n",
       "      <td>haderjo01</td>\n",
       "      <td>14212</td>\n",
       "      <td>2017.0</td>\n",
       "      <td>2019.0</td>\n",
       "      <td>1901.0</td>\n",
       "    </tr>\n",
       "    <tr>\n",
       "      <th>4</th>\n",
       "      <td>jansen</td>\n",
       "      <td>kenley</td>\n",
       "      <td>445276</td>\n",
       "      <td>jansk001</td>\n",
       "      <td>janseke01</td>\n",
       "      <td>3096</td>\n",
       "      <td>2010.0</td>\n",
       "      <td>2019.0</td>\n",
       "      <td>2026.0</td>\n",
       "    </tr>\n",
       "    <tr>\n",
       "      <th>5</th>\n",
       "      <td>kluber</td>\n",
       "      <td>corey</td>\n",
       "      <td>446372</td>\n",
       "      <td>klubc001</td>\n",
       "      <td>klubeco01</td>\n",
       "      <td>2429</td>\n",
       "      <td>2011.0</td>\n",
       "      <td>2019.0</td>\n",
       "      <td>1821.0</td>\n",
       "    </tr>\n",
       "    <tr>\n",
       "      <th>6</th>\n",
       "      <td>osuna</td>\n",
       "      <td>roberto</td>\n",
       "      <td>532077</td>\n",
       "      <td>osunr001</td>\n",
       "      <td>osunaro01</td>\n",
       "      <td>13764</td>\n",
       "      <td>2015.0</td>\n",
       "      <td>2019.0</td>\n",
       "      <td>1791.0</td>\n",
       "    </tr>\n",
       "    <tr>\n",
       "      <th>7</th>\n",
       "      <td>sale</td>\n",
       "      <td>chris</td>\n",
       "      <td>519242</td>\n",
       "      <td>salec001</td>\n",
       "      <td>salech01</td>\n",
       "      <td>10603</td>\n",
       "      <td>2010.0</td>\n",
       "      <td>2019.0</td>\n",
       "      <td>1816.0</td>\n",
       "    </tr>\n",
       "    <tr>\n",
       "      <th>8</th>\n",
       "      <td>scherzer</td>\n",
       "      <td>max</td>\n",
       "      <td>453286</td>\n",
       "      <td>schem001</td>\n",
       "      <td>scherma01</td>\n",
       "      <td>3137</td>\n",
       "      <td>2008.0</td>\n",
       "      <td>2019.0</td>\n",
       "      <td>2441.0</td>\n",
       "    </tr>\n",
       "    <tr>\n",
       "      <th>9</th>\n",
       "      <td>verlander</td>\n",
       "      <td>justin</td>\n",
       "      <td>434378</td>\n",
       "      <td>verlj001</td>\n",
       "      <td>verlaju01</td>\n",
       "      <td>8700</td>\n",
       "      <td>2005.0</td>\n",
       "      <td>2019.0</td>\n",
       "      <td>1915.0</td>\n",
       "    </tr>\n",
       "  </tbody>\n",
       "</table>\n",
       "</div>"
      ],
      "text/plain": [
       "   name_last name_first  key_mlbam key_retro  key_bbref  key_fangraphs  \\\n",
       "0    buehler     walker     621111  buehw001  buehlwa01          19374   \n",
       "1     degrom      jacob     594798  degrj001  degroja01          10954   \n",
       "2    greinke       zack     425844  greiz001  greinza01           1943   \n",
       "3      hader       josh     623352  hadej001  haderjo01          14212   \n",
       "4     jansen     kenley     445276  jansk001  janseke01           3096   \n",
       "5     kluber      corey     446372  klubc001  klubeco01           2429   \n",
       "6      osuna    roberto     532077  osunr001  osunaro01          13764   \n",
       "7       sale      chris     519242  salec001   salech01          10603   \n",
       "8   scherzer        max     453286  schem001  scherma01           3137   \n",
       "9  verlander     justin     434378  verlj001  verlaju01           8700   \n",
       "\n",
       "   mlb_played_first  mlb_played_last     elo  \n",
       "0            2017.0           2019.0  1789.0  \n",
       "1            2014.0           2019.0  1877.0  \n",
       "2            2004.0           2019.0  1715.0  \n",
       "3            2017.0           2019.0  1901.0  \n",
       "4            2010.0           2019.0  2026.0  \n",
       "5            2011.0           2019.0  1821.0  \n",
       "6            2015.0           2019.0  1791.0  \n",
       "7            2010.0           2019.0  1816.0  \n",
       "8            2008.0           2019.0  2441.0  \n",
       "9            2005.0           2019.0  1915.0  "
      ]
     },
     "execution_count": 76,
     "metadata": {},
     "output_type": "execute_result"
    }
   ],
   "source": [
    "# Find the pitchers with the highest elo\n",
    "maxElos = [0] * 10\n",
    "maxPitchers = [0] * 10\n",
    "for i in pitcherElos:\n",
    "    if(pitcherElos[i] > min(maxElos)):\n",
    "        minIndex = maxElos.index(min(maxElos))\n",
    "        maxPitchers[minIndex] = i\n",
    "        maxElos[minIndex] = pitcherElos[i]\n",
    "        \n",
    "data = playerid_reverse_lookup(maxPitchers, key_type='mlbam')\n",
    "data[\"elo\"] = 0\n",
    "for pitcher in maxPitchers:\n",
    "    data.loc[data[\"key_mlbam\"] == pitcher, \"elo\"] = pitcherElos[pitcher]\n",
    "data"
   ]
  },
  {
   "cell_type": "markdown",
   "metadata": {},
   "source": [
    "Now that we have our scores, we can compute predictions for specific batter-pitcher matchups using the same equation that we used to calculate the probabilities to update the scores. Let's test a few."
   ]
  },
  {
   "cell_type": "code",
   "execution_count": 54,
   "metadata": {},
   "outputs": [],
   "source": [
    "def PredictWinner(pitcherID, batterID):\n",
    "    # Get the elos of both players\n",
    "    probPWins = ProbPitcherWins(pitcherID, batterID)\n",
    "    print(\"Batter Elo:\", batterElos[batterID])\n",
    "    print(\"Pitcher Elo:\", pitcherElos[pitcherID])\n",
    "    print(\"The probability that the pitcher wins is\", probPWins)\n",
    "    \n",
    "    # Find the actual historical data on who won the at-bat\n",
    "    histData = histResults[(pitcherID, batterID)]\n",
    "    percentPWon = histData[0] / np.sum(histData)\n",
    "    if(np.isnan(percentPWon)):\n",
    "        percentPWon = 0\n",
    "    print(\"The percentage of at-bat appearances the pitcher won is\", percentPWon)"
   ]
  },
  {
   "cell_type": "code",
   "execution_count": 55,
   "metadata": {},
   "outputs": [
    {
     "name": "stdout",
     "output_type": "stream",
     "text": [
      "Batter Elo: 501.0\n",
      "Pitcher Elo: -2340.0\n",
      "The probability that the pitcher wins is 0.0014400386496813734\n",
      "The percentage of at-bat appearances the pitcher won is 0.5\n",
      "Batter Elo: 398.0\n",
      "Pitcher Elo: -678.0\n",
      "The probability that the pitcher wins is 0.07744481621440553\n",
      "The percentage of at-bat appearances the pitcher won is 0.6666666666666666\n",
      "Batter Elo: 1095.0\n",
      "Pitcher Elo: 583.0\n",
      "The probability that the pitcher wins is 0.23524579684000338\n",
      "The percentage of at-bat appearances the pitcher won is 0.0\n",
      "Batter Elo: 1038.0\n",
      "Pitcher Elo: -4297.0\n",
      "The probability that the pitcher wins is 4.623788834470563e-06\n",
      "The percentage of at-bat appearances the pitcher won is 0.0\n",
      "Batter Elo: 939.0\n",
      "Pitcher Elo: 489.0\n",
      "The probability that the pitcher wins is 0.2618909674595814\n",
      "The percentage of at-bat appearances the pitcher won is 0.0\n"
     ]
    }
   ],
   "source": [
    "histResults[(\"a\")] = 0\n",
    "\n",
    "# To make sure there is no bias, let's calculate scores of random matchups\n",
    "num = 5\n",
    "matchups = np.random.choice(list(histResults.keys()), size = num)\n",
    "\n",
    "for i in matchups:\n",
    "    PredictWinner(i[0], i[1])"
   ]
  },
  {
   "cell_type": "markdown",
   "metadata": {},
   "source": [
    "We can also plot some things to get a better look at the range of scores. From theory, the overall distribution of scores should follow a guassian. However, when we perform the calculations, the histograms are not normal. \n",
    "\n",
    "Without weights, the histograms look almost uniform. The scores for the batters range from about [0, 1000] and the scores for pitchers range from about [1000, 2000].\n",
    "\n",
    "With the simple weights, the histograms look more normal with means around the 1,000 mark, but very skewed. The batter's data is left skewed with a tail that goes all the way out to almost 5,000 and the pitcher's data is right skewed with a tail that reaches -2,000. When we plot the total scores, the data has a vast majority clusted from [0, 1500] which dies down quickly with some very long tails."
   ]
  },
  {
   "cell_type": "code",
   "execution_count": 56,
   "metadata": {
    "scrolled": false
   },
   "outputs": [
    {
     "data": {
      "text/plain": [
       "Text(0.5,1,'Pitcher Elo Scores')"
      ]
     },
     "execution_count": 56,
     "metadata": {},
     "output_type": "execute_result"
    },
    {
     "data": {
      "image/png": "[encoded data removed]",
      "text/plain": [
       "<Figure size 864x576 with 2 Axes>"
      ]
     },
     "metadata": {
      "needs_background": "light"
     },
     "output_type": "display_data"
    }
   ],
   "source": [
    "fig, ax = plt.subplots(1, 2, figsize = (12, 8))\n",
    "ax[0].hist(batterElos.values())\n",
    "ax[0].set_xlabel(\"Elo Score\")\n",
    "ax[0].set_ylabel(\"Frequency\")\n",
    "ax[0].set_title(\"Batter Elo Scores\")\n",
    "ax[1].hist(pitcherElos.values())\n",
    "ax[1].set_xlabel(\"Elo Score\")\n",
    "ax[1].set_ylabel(\"Frequency\")\n",
    "ax[1].set_title(\"Pitcher Elo Scores\")"
   ]
  },
  {
   "cell_type": "code",
   "execution_count": 57,
   "metadata": {},
   "outputs": [
    {
     "data": {
      "text/plain": [
       "Text(0.5,1,'Pitcher Elo Scores')"
      ]
     },
     "execution_count": 57,
     "metadata": {},
     "output_type": "execute_result"
    },
    {
     "data": {
      "image/png": "[encoded data removed]",
      "text/plain": [
       "<Figure size 864x576 with 2 Axes>"
      ]
     },
     "metadata": {
      "needs_background": "light"
     },
     "output_type": "display_data"
    }
   ],
   "source": [
    "# Scale the data so mean is 0 and variance is 1\n",
    "bats = list(batterElos.values())\n",
    "meanBats = np.mean(bats)\n",
    "varBats = np.var(bats)\n",
    "newBats = (bats - meanBats) / varBats\n",
    "\n",
    "pits = list(pitcherElos.values())\n",
    "meanPits = np.mean(pits)\n",
    "varPits = np.var(pits)\n",
    "newPits = (pits - meanPits) / varPits\n",
    "\n",
    "fig, ax = plt.subplots(1, 2, figsize = (12, 8))\n",
    "ax[0].hist(newBats)\n",
    "ax[0].set_xlabel(\"Normalized Elo Score\")\n",
    "ax[0].set_ylabel(\"Frequency\")\n",
    "ax[0].set_title(\"Batter Elo Scores\")\n",
    "ax[1].hist(newPits)\n",
    "ax[1].set_xlabel(\"Normalized Elo Score\")\n",
    "ax[1].set_ylabel(\"Frequency\")\n",
    "ax[1].set_title(\"Pitcher Elo Scores\")"
   ]
  },
  {
   "cell_type": "code",
   "execution_count": 58,
   "metadata": {},
   "outputs": [
    {
     "data": {
      "text/plain": [
       "Text(0,0.5,'Frequency')"
      ]
     },
     "execution_count": 58,
     "metadata": {},
     "output_type": "execute_result"
    },
    {
     "data": {
      "image/png": "[encoded data removed]",
      "text/plain": [
       "<Figure size 432x432 with 1 Axes>"
      ]
     },
     "metadata": {
      "needs_background": "light"
     },
     "output_type": "display_data"
    }
   ],
   "source": [
    "fig, ax = plt.subplots(1, 1, figsize = (6, 6))\n",
    "total = list(batterElos.values()) + list(pitcherElos.values())\n",
    "ax.hist(total)\n",
    "ax.set_title(\"Total Elo Scores\")\n",
    "ax.set_xlabel(\"Elo Score\")\n",
    "ax.set_ylabel(\"Frequency\")"
   ]
  },
  {
   "cell_type": "markdown",
   "metadata": {},
   "source": [
    "In conclusion, I am glad I did the elo rankings. It helped me get a better understanding of statistical transformations, and a better idea of how ranking systems should be planned out. In hindsight, it doesn't make much sense to use an individual scoreing system for a team sport, but the investigation was still worthwhile. "
   ]
  },
  {
   "cell_type": "code",
   "execution_count": null,
   "metadata": {},
   "outputs": [],
   "source": []
  }
 ],
 "metadata": {
  "kernelspec": {
   "display_name": "Python 3",
   "language": "python",
   "name": "python3"
  },
  "language_info": {
   "codemirror_mode": {
    "name": "ipython",
    "version": 3
   },
   "file_extension": ".py",
   "mimetype": "text/x-python",
   "name": "python",
   "nbconvert_exporter": "python",
   "pygments_lexer": "ipython3",
   "version": "3.6.3"
  }
 },
 "nbformat": 4,
 "nbformat_minor": 2
}
