{
 "cells": [
  {
   "cell_type": "markdown",
   "metadata": {},
   "source": [
    "**CSCI 4831: Sabermetrics Final Project**  \n",
    "Name: Adam Ten Hoeve"
   ]
  },
  {
   "cell_type": "code",
   "execution_count": 55,
   "metadata": {},
   "outputs": [],
   "source": [
    "import numpy as np\n",
    "import pandas as pd\n",
    "import matplotlib.pyplot as plt\n",
    "%matplotlib inline"
   ]
  },
  {
   "cell_type": "code",
   "execution_count": 56,
   "metadata": {},
   "outputs": [],
   "source": [
    "# Read in all of the statcast data\n",
    "# df2016 = pd.read_csv(\"2016/data2016.csv\")\n",
    "\n",
    "# april2017 = pd.read_csv(\"2017/dataApril2017.csv\")\n",
    "# may2017 = pd.read_csv(\"2017/dataMay2017.csv\")\n",
    "# june2017 = pd.read_csv(\"2017/dataJune2017.csv\")\n",
    "# july2017 = pd.read_csv(\"2017/dataJuly2017.csv\")\n",
    "# aug2017 = pd.read_csv(\"2017/dataAug2017.csv\")\n",
    "# sept2017 = pd.read_csv(\"2017/dataSept2017.csv\")\n",
    "# oct2017 = pd.read_csv(\"2017/dataOct2017.csv\")\n",
    "\n",
    "april2018 = pd.read_csv(\"2018/dataApril2018.csv\")\n",
    "# may2018 = pd.read_csv(\"2018/dataMay2018.csv\")\n",
    "# june2018 = pd.read_csv(\"2018/dataJune2018.csv\")\n",
    "# july2018 = pd.read_csv(\"2018/dataJuly2018.csv\")\n",
    "# aug2018 = pd.read_csv(\"2018/dataAug2018.csv\")\n",
    "# sept2018 = pd.read_csv(\"2018/dataSept2018.csv\")\n",
    "# oct2018 = pd.read_csv(\"2018/dataOct2018.csv\")\n",
    "\n",
    "# df2017 = pd.concat([april2017, may2017, june2017, july2017, aug2017, sept2017, oct2017])\n",
    "# df2018 = pd.concat([april2018, may2018, june2018, july2018, aug2018, sept2018, oct2018])\n",
    "\n",
    "# dfTotal = pd.concat([df2016, df2017, df2018])\n",
    "dfTotal = april2018.copy()"
   ]
  },
  {
   "cell_type": "code",
   "execution_count": 57,
   "metadata": {},
   "outputs": [],
   "source": [
    "# Clean the data. \n",
    "# Group by pitcher. Get rid of anyone who pitched less than 100 times in the three years.\n",
    "dfTempPitch = dfTotal.groupby(\"player_name\", as_index = False).count()\n",
    "dfTempPitch = dfTempPitch.loc[dfTempPitch[\"index\"] > 100]\n",
    "# Then group by batter to get rid of any batters who batted less than 100 times.\n",
    "dfTempBat = dfTotal.groupby(\"batter\", as_index = False).count()\n",
    "dfTempBat = dfTempBat.loc[dfTempBat[\"index\"] > 100]\n",
    "\n",
    "# Create a database of pitchers \n",
    "dfPitchers = pd.merge(dfTotal, dfTempPitch[[\"player_name\"]], on = \"player_name\", how = \"inner\")\n",
    "# Create a database of batters\n",
    "dfBatters = pd.merge(dfTotal, dfTempBat[[\"batter\"]], on = \"batter\", how = \"inner\")\n",
    "\n",
    "# Create a final dataframe of the cleaned batter and pitcher data\n",
    "dfFinal = pd.merge(dfPitchers, dfBatters[[\"index\", \"pitcher\", \"batter\", \"release_speed\", \"strikes\", \"balls\"]], on = [\"index\", \"pitcher\", \"batter\", \"release_speed\", \"strikes\", \"balls\"], how = \"inner\")"
   ]
  },
  {
   "cell_type": "code",
   "execution_count": 58,
   "metadata": {},
   "outputs": [],
   "source": [
    "# A list of events of the batter either striking out or hitting the ball into play.\n",
    "events = [\"strikeout\", \"strikeout_double_play\", \"single\", \"double\", \"triple\", \"home_run\", \"sac_bunt\", \"sac_fly\", \"field_out\", \"field_error\", \"double_play\", \"grounded_into_double_play\", \"sac_fly_double_play\", \"triple_play\", \"walk\", \"hit_by_pitch\"]\n",
    "# Get rid of all the rows of data that don't have one of the events listed.\n",
    "Outcomes = dfFinal.loc[dfFinal[\"events\"].isin(events)]"
   ]
  },
  {
   "cell_type": "code",
   "execution_count": 59,
   "metadata": {},
   "outputs": [
    {
     "data": {
      "text/html": [
       "<div>\n",
       "<style scoped>\n",
       "    .dataframe tbody tr th:only-of-type {\n",
       "        vertical-align: middle;\n",
       "    }\n",
       "\n",
       "    .dataframe tbody tr th {\n",
       "        vertical-align: top;\n",
       "    }\n",
       "\n",
       "    .dataframe thead th {\n",
       "        text-align: right;\n",
       "    }\n",
       "</style>\n",
       "<table border=\"1\" class=\"dataframe\">\n",
       "  <thead>\n",
       "    <tr style=\"text-align: right;\">\n",
       "      <th></th>\n",
       "      <th>events</th>\n",
       "      <th>index</th>\n",
       "      <th>proportion</th>\n",
       "    </tr>\n",
       "  </thead>\n",
       "  <tbody>\n",
       "    <tr>\n",
       "      <th>0</th>\n",
       "      <td>double</td>\n",
       "      <td>1194</td>\n",
       "      <td>0.047000</td>\n",
       "    </tr>\n",
       "    <tr>\n",
       "      <th>1</th>\n",
       "      <td>double_play</td>\n",
       "      <td>60</td>\n",
       "      <td>0.002362</td>\n",
       "    </tr>\n",
       "    <tr>\n",
       "      <th>2</th>\n",
       "      <td>field_error</td>\n",
       "      <td>228</td>\n",
       "      <td>0.008975</td>\n",
       "    </tr>\n",
       "    <tr>\n",
       "      <th>3</th>\n",
       "      <td>field_out</td>\n",
       "      <td>10343</td>\n",
       "      <td>0.407141</td>\n",
       "    </tr>\n",
       "    <tr>\n",
       "      <th>4</th>\n",
       "      <td>grounded_into_double_play</td>\n",
       "      <td>478</td>\n",
       "      <td>0.018816</td>\n",
       "    </tr>\n",
       "    <tr>\n",
       "      <th>5</th>\n",
       "      <td>hit_by_pitch</td>\n",
       "      <td>305</td>\n",
       "      <td>0.012006</td>\n",
       "    </tr>\n",
       "    <tr>\n",
       "      <th>6</th>\n",
       "      <td>home_run</td>\n",
       "      <td>750</td>\n",
       "      <td>0.029523</td>\n",
       "    </tr>\n",
       "    <tr>\n",
       "      <th>7</th>\n",
       "      <td>sac_bunt</td>\n",
       "      <td>55</td>\n",
       "      <td>0.002165</td>\n",
       "    </tr>\n",
       "    <tr>\n",
       "      <th>8</th>\n",
       "      <td>sac_fly</td>\n",
       "      <td>188</td>\n",
       "      <td>0.007400</td>\n",
       "    </tr>\n",
       "    <tr>\n",
       "      <th>9</th>\n",
       "      <td>sac_fly_double_play</td>\n",
       "      <td>3</td>\n",
       "      <td>0.000118</td>\n",
       "    </tr>\n",
       "    <tr>\n",
       "      <th>10</th>\n",
       "      <td>single</td>\n",
       "      <td>3700</td>\n",
       "      <td>0.145646</td>\n",
       "    </tr>\n",
       "    <tr>\n",
       "      <th>11</th>\n",
       "      <td>strikeout</td>\n",
       "      <td>5723</td>\n",
       "      <td>0.225279</td>\n",
       "    </tr>\n",
       "    <tr>\n",
       "      <th>12</th>\n",
       "      <td>strikeout_double_play</td>\n",
       "      <td>22</td>\n",
       "      <td>0.000866</td>\n",
       "    </tr>\n",
       "    <tr>\n",
       "      <th>13</th>\n",
       "      <td>triple</td>\n",
       "      <td>115</td>\n",
       "      <td>0.004527</td>\n",
       "    </tr>\n",
       "    <tr>\n",
       "      <th>14</th>\n",
       "      <td>triple_play</td>\n",
       "      <td>1</td>\n",
       "      <td>0.000039</td>\n",
       "    </tr>\n",
       "    <tr>\n",
       "      <th>15</th>\n",
       "      <td>walk</td>\n",
       "      <td>2239</td>\n",
       "      <td>0.088136</td>\n",
       "    </tr>\n",
       "  </tbody>\n",
       "</table>\n",
       "</div>"
      ],
      "text/plain": [
       "                       events  index  proportion\n",
       "0                      double   1194    0.047000\n",
       "1                 double_play     60    0.002362\n",
       "2                 field_error    228    0.008975\n",
       "3                   field_out  10343    0.407141\n",
       "4   grounded_into_double_play    478    0.018816\n",
       "5                hit_by_pitch    305    0.012006\n",
       "6                    home_run    750    0.029523\n",
       "7                    sac_bunt     55    0.002165\n",
       "8                     sac_fly    188    0.007400\n",
       "9         sac_fly_double_play      3    0.000118\n",
       "10                     single   3700    0.145646\n",
       "11                  strikeout   5723    0.225279\n",
       "12      strikeout_double_play     22    0.000866\n",
       "13                     triple    115    0.004527\n",
       "14                triple_play      1    0.000039\n",
       "15                       walk   2239    0.088136"
      ]
     },
     "execution_count": 59,
     "metadata": {},
     "output_type": "execute_result"
    }
   ],
   "source": [
    "# Calculate the proportion of each type of event. Will be used to calculate the weight of certain outcomes.\n",
    "OutcomesProp = Outcomes.groupby(\"events\", as_index = False).count()\n",
    "numEvents = len(Outcomes)\n",
    "OutcomesProp[\"proportion\"] = OutcomesProp[\"index\"] / numEvents\n",
    "OutcomesProp = OutcomesProp[[\"events\", \"index\", \"proportion\"]]\n",
    "OutcomesProp"
   ]
  },
  {
   "cell_type": "code",
   "execution_count": 64,
   "metadata": {},
   "outputs": [],
   "source": [
    "# Create a dictionary of all batters and pitchers\n",
    "batterElos = {}\n",
    "pitcherElos = {}\n",
    "\n",
    "# ids = list(Outcomes[\"pitcher\"].unique()) + list(Outcomes[\"batter\"].unique())\n",
    "for id in list(Outcomes[\"pitcher\"].unique()):\n",
    "    pitcherElos[id] = 1000\n",
    "for id in list(Outcomes[\"batter\"].unique()):\n",
    "    batterElos[id] = 1000\n",
    "    \n",
    "# Create a list of pitcher-favored outcomes.\n",
    "pitcherFavored = [\"strikeout\", \"strikeout_double_play\", \"field_out\", \"double_play\", \"grounded_into_double_play\", \"sac_fly_double_play\", \"triple_play\"]\n",
    "# Create a list of batter favored outcomes, meaning they did not get out by the end of the play.\n",
    "batterFavored = [\"single\", \"double\", \"triple\", \"home_run\", \"field_error\", \"walk\", \"hit_by_pitch\", \"sac_bunt\", \"sac_fly\"]"
   ]
  },
  {
   "cell_type": "code",
   "execution_count": 77,
   "metadata": {},
   "outputs": [],
   "source": [
    "# Create a dictionary of actual historical result data. This will be to compare the predicted outcome probabilities\n",
    "histResults = {}\n",
    "for pid in list(Outcomes[\"pitcher\"].unique()):\n",
    "        for bid in list(Outcomes[\"batter\"].unique()):\n",
    "            histResults[(pid, bid)] = np.array([0,0])"
   ]
  },
  {
   "cell_type": "code",
   "execution_count": 39,
   "metadata": {},
   "outputs": [],
   "source": [
    "def PercentOnBase(row):\n",
    "    if row[\"events\"] in batterFavored:\n",
    "        return 1\n",
    "    return 0\n",
    "\n",
    "# Find how often batters get on base\n",
    "total = len(Outcomes)\n",
    "probBatterWins = np.sum(Outcomes.apply(PercentOnBase, axis = 1)) / total"
   ]
  },
  {
   "cell_type": "code",
   "execution_count": 72,
   "metadata": {},
   "outputs": [
    {
     "name": "stdout",
     "output_type": "stream",
     "text": [
      "1.4476863460223386 0.7638003607937462\n"
     ]
    }
   ],
   "source": [
    "# Batters only \"win\" about 35% of the time. So weight the eventual scores so it's as if they win 50% of the time.\n",
    "# Way better than the old system of weighting scores individually\n",
    "batterWeight = 0.5 / probBatterWins\n",
    "pitcherWeight = 0.5 / (1 - probBatterWins)\n",
    "\n",
    "print(batterWeight, pitcherWeight)"
   ]
  },
  {
   "cell_type": "code",
   "execution_count": 53,
   "metadata": {},
   "outputs": [],
   "source": [
    "# Determines the weight on the elo based on the type of event.\n",
    "# Used to balance the proportion of pitcher-wins to batter-wins.\n",
    "# Otherwise pitchers win about 70% of the time and dominate the scores\n",
    "def EloEventWeight(event):\n",
    "    # If that event occured\n",
    "    if event == \"strikeout\":\n",
    "        # Return the prob of that event times the assigned weight based on impact\n",
    "        # All weights have are *2 what they normally are to speed up processing by preventing floating point arithmetic.\n",
    "        return OutcomesProp.loc[OutcomesProp[\"events\"] == \"strikeout\"][\"proportion\"] * 2\n",
    "    elif event == \"field_out\":\n",
    "        return OutcomesProp.loc[OutcomesProp[\"events\"] == \"field_out\"][\"proportion\"] * 1\n",
    "    elif event == \"double_play\":\n",
    "        return OutcomesProp.loc[OutcomesProp[\"events\"] == \"double_play\"][\"proportion\"] * 4\n",
    "    elif event == \"grounded_into_double_play\":\n",
    "        return OutcomesProp.loc[OutcomesProp[\"events\"] == \"grounded_into_double_play\"][\"proportion\"] * 4\n",
    "    elif event == \"strikeout_double_play\":\n",
    "        return OutcomesProp.loc[OutcomesProp[\"events\"] == \"strikeout_double_play\"][\"proportion\"] * 4\n",
    "    elif event == \"triple_play\":\n",
    "        return OutcomesProp.loc[OutcomesProp[\"events\"] == \"triple_play\"][\"proportion\"] * 6\n",
    "    elif event == \"sac_fly_double_play\":\n",
    "        return OutcomesProp.loc[OutcomesProp[\"events\"] == \"sac_fly_double_play\"][\"proportion\"] * 2\n",
    "    elif event == \"single\":\n",
    "        return OutcomesProp.loc[OutcomesProp[\"events\"] == \"single\"][\"proportion\"] * 2\n",
    "    elif event == \"double\":\n",
    "        return OutcomesProp.loc[OutcomesProp[\"events\"] == \"double\"][\"proportion\"] * 4\n",
    "    elif event == \"triple\":\n",
    "        return OutcomesProp.loc[OutcomesProp[\"events\"] == \"triple\"][\"proportion\"] * 6\n",
    "    elif event == \"home_run\":\n",
    "        return OutcomesProp.loc[OutcomesProp[\"events\"] == \"home_run\"][\"proportion\"] * 8\n",
    "    elif event == \"sac_bunt\":\n",
    "        return OutcomesProp.loc[OutcomesProp[\"events\"] == \"sac_bunt\"][\"proportion\"] * 2\n",
    "    elif event == \"sac_fly\":\n",
    "        return OutcomesProp.loc[OutcomesProp[\"events\"] == \"sac_fly\"][\"proportion\"] * 2\n",
    "    elif event == \"field_error\":\n",
    "        return OutcomesProp.loc[OutcomesProp[\"events\"] == \"field_error\"][\"proportion\"] * 2\n",
    "    elif event == \"walk\":\n",
    "        return OutcomesProp.loc[OutcomesProp[\"events\"] == \"walk\"][\"proportion\"] * 2\n",
    "    elif event == \"hit_by_pitch\":\n",
    "        return OutcomesProp.loc[OutcomesProp[\"events\"] == \"hit_by_pitch\"][\"proportion\"] * 2\n",
    "    else:\n",
    "        # something got through that wasn't supposed to get through\n",
    "        print(event)\n",
    "        return 0.5"
   ]
  },
  {
   "cell_type": "code",
   "execution_count": 41,
   "metadata": {},
   "outputs": [],
   "source": [
    "# Create a function to calculate the probability a pitcher wins the matchup\n",
    "def ProbPitcherWins(pitcher, batter):\n",
    "    # Get ranking of pitcher\n",
    "    pitcherRank = pitcherElos[pitcher]\n",
    "    # Get ranking of batter\n",
    "    batterRank = batterElos[batter]\n",
    "    # From elo rankings. Assumes a difference of 400 is the same as 1 player being 10 times as likely to win\n",
    "    probPitcherWins = 1 / (1 + 10**((pitcherRank -  batterRank)/400))\n",
    "    return probPitcherWins"
   ]
  },
  {
   "cell_type": "code",
   "execution_count": 78,
   "metadata": {},
   "outputs": [],
   "source": [
    "# Create a function to update the scores of players based on the results of pitches\n",
    "def UpdateElo(row):\n",
    "    p = row[\"pitcher\"]\n",
    "    b = row[\"batter\"]\n",
    "    # Get the probability that the pitcher wins from the function above\n",
    "    prob = ProbPitcherWins(p, b)\n",
    "    # Update the ratings based on the outcome of the pitch\n",
    "    # If pitcher \"wins\" the matchup\n",
    "    if row[\"events\"] in pitcherFavored:\n",
    "        # Largest possible change in score is 32.\n",
    "        # Shown 16 here because *2 in weight function to prevent float multiplication.\n",
    "        pitcherElos[p] = int(pitcherElos[p] + (32 * pitcherWeight * (1 - prob)))\n",
    "        batterElos[b] = int(batterElos[b] + (32 * pitcherWeight * (prob - 1)))\n",
    "        histResults[(p, b)] = histResults[(p, b)] + np.array([1, 0])\n",
    "    # If the batter wins the matchup\n",
    "    else:\n",
    "        pitcherElos[p] = int(pitcherElos[p] + (32 * batterWeight * (prob - 1)))\n",
    "        batterElos[b] = int(batterElos[b] + (32 * batterWeight * (1 - prob)))\n",
    "        histResults[(p, b)] = histResults[(p, b)] + np.array([0, 1])"
   ]
  },
  {
   "cell_type": "code",
   "execution_count": 80,
   "metadata": {},
   "outputs": [],
   "source": [
    "Outcomes.apply(UpdateElo, axis = 1);"
   ]
  },
  {
   "cell_type": "code",
   "execution_count": 81,
   "metadata": {},
   "outputs": [
    {
     "name": "stdout",
     "output_type": "stream",
     "text": [
      "1315\n"
     ]
    }
   ],
   "source": [
    "print(max(list(batterElos.values())))"
   ]
  },
  {
   "cell_type": "code",
   "execution_count": 82,
   "metadata": {},
   "outputs": [
    {
     "name": "stdout",
     "output_type": "stream",
     "text": [
      "[961, 1003, 1032, 672, 1296, 805, 894, 840, 1051, 900, 1067, 916, 996, 786, 998, 1161, 1274, 1311, 1024, 1025, 904, 926, 659, 826, 1177, 497, 1021, 788, 956, 655, 907, 1066, 1124, 1022, 652, 1016, 887, 879, 859, 938, 1135, 1061, 1143, 1057, 1096, 694, 934, 1019, 1204, 798, 1144, 1036, 912, 848, 1035, 1094, 501, 921, 994, 1071, 1013, 1135, 1203, 924, 870, 972, 864, 737, 534, 1035, 730, 1000, 1194, 1108, 433, 933, 964, 785, 1074, 1175, 993, 952, 969, 859, 1148, 1292, 486, 1225, 990, 906, 1081, 965, 1068, 1191, 1108, 1029, 907, 828, 985, 782, 615, 933, 1047, 651, 1014, 575, 874, 1315, 991, 1005, 964, 950, 612, 1081, 1006, 1252, 1047, 1026, 921, 993, 1053, 916, 1126, 701, 856, 1159, 935, 1036, 1139, 954, 678, 660, 997, 968, 1017, 1007, 871, 1166, 716, 886, 679, 827, 1092, 1061, 1012, 858, 1053, 759, 724, 868, 914, 809, 1036, 982, 777, 1156, 157, 585, 1053, 1016, 1011, 965, 996, 1022, 783, 862, 1015, 942, 1178, 994, 1047, 725, 736, 801, 1079, 1129, 1039, 935, 1016, 780, 934, 997, 792, 775, 947, 1093, 1048, 990, 1103, 749, 938, 980, 1011, 1040, 861, 986, 1057, 1057, 1027, 733, 983, 980, 1034, 797, 1236, 870, 1107, 1055, 931, 954, 868, 974, 1089, 763, 1218, 766, 874, 1032, 1010, 1287, 831, 953, 1182, 955, 984, 1014, 962, 519, 1030, 1125, 1010, 784, 1016, 1222, 699, 1126, 1070, 1049, 968, 1120, 830, 1031, 570, 948, 672, 1055, 950, 853, 879, 646, 934, 976, 1174, 753, 1118, 1108, 633, 967, 1040, 1033, 900, 972, 1010, 852, 828, 741, 965, 932, 995, 1056, 831, 995, 1155, 639, 1122, 912, 1130, 389, 1062, 816, 1020, 1067, 968, 1179, 911, 938, 576, 872, 805, 925, 1023, 925, 1059, 1019, 897, 1068, 1221, 882, 1087, 1134, 886, 882, 892, 886, 1051, 920, 1033, 920, 597, 843, 1171, 1062, 1053, 715, 874, 918, 908, 1240, 894, 791, 828, 913, 417, 968, 1142, 1095, 1161, 767, 876, 1127, 831, 965, 975, 943, 617, 1109, 1012, 1021, 1164, 852, 702, 952, 910, 1017, 1167, 970, 948, 773, 1118, 1021, 1026, 908, 936, 741, 1034, 1000, 997, 1128, 991, 1159, 1051, 905, 1103, 920, 888, 1182, 1086, 1006, 871]\n"
     ]
    }
   ],
   "source": [
    "print(list(batterElos.values()))"
   ]
  },
  {
   "cell_type": "code",
   "execution_count": 83,
   "metadata": {},
   "outputs": [
    {
     "name": "stdout",
     "output_type": "stream",
     "text": [
      "2054\n"
     ]
    }
   ],
   "source": [
    "print(max(list(pitcherElos.values())))"
   ]
  },
  {
   "cell_type": "code",
   "execution_count": 84,
   "metadata": {},
   "outputs": [
    {
     "name": "stdout",
     "output_type": "stream",
     "text": [
      "[932, 949, 1161, 937, 1014, 1028, 852, 693, 1026, 853, 911, 1214, 900, 774, 1124, 788, 1125, 876, 805, 925, 988, 1057, 914, 980, 1146, 1137, 897, 941, 1123, 805, 876, 1029, 1011, 915, 1041, 1003, 996, 936, 1001, 909, 1069, 978, 1069, 908, 1283, 1028, 1091, 1095, 1343, 962, 713, 1546, 1108, 972, 1005, 940, 955, 987, 1022, 779, 714, 1009, 1100, 1190, 975, 920, 1241, 1013, 1009, 966, 1024, 979, 949, 933, 850, 904, 988, 1334, 968, 910, 1349, 752, 1009, 825, 1184, 637, 1100, 825, 1773, 808, 867, 1032, 1031, 817, 1050, 820, 807, 1229, 919, 1100, 939, 1027, 899, 880, 772, 951, 1184, 1003, 1156, 948, 1814, 1092, 1050, 1031, 1164, 1197, 1004, 791, 888, 907, 1117, 910, 1123, 931, 580, 1149, 925, 1324, 996, 872, 800, 1179, 1031, 1049, 1006, 748, 822, 990, 1099, 854, 946, 963, 1030, 881, 790, 1048, 1242, 968, 1045, 873, 805, 1423, 776, 948, 891, 952, 856, 866, 771, 1013, 885, 1216, 1069, 952, 832, 862, 952, 1329, 962, 1113, 806, 1047, 893, 991, 1006, 1276, 943, 739, 977, 949, 1029, 912, 715, 1037, 920, 830, 944, 859, 1146, 1080, 1156, 1032, 983, 808, 1502, 859, 1089, 921, 939, 819, 995, 838, 776, 940, 841, 1150, 1103, 944, 1132, 1124, 892, 872, 1143, 877, 983, 1116, 990, 1178, 1006, 938, 1194, 1038, 934, 871, 818, 874, 870, 912, 954, 864, 866, 781, 1242, 971, 1008, 908, 1095, 1076, 955, 1183, 1026, 907, 1017, 1060, 913, 1872, 1014, 1089, 910, 783, 903, 1001, 689, 791, 1010, 960, 938, 717, 1130, 936, 920, 1078, 970, 989, 1217, 839, 1979, 949, 860, 878, 1259, 2054, 933, 1226, 935, 1552, 877, 961, 1051, 1204, 688, 1246, 964, 887, 1404, 994, 1124, 693, 1016, 1081, 927, 1019, 766, 1062, 912, 770, 1054, 796, 1007, 917, 979, 814, 965, 1230, 948, 1301, 701, 652, 795, 926, 1227, 789, 941, 944, 917, 968, 732, 1011, 1131, 1156, 853, 742, 1246, 1247, 924, 830, 850, 1099, 664, 742, 1511, 700, 754, 650, 770, 857, 988, 642, 802, 1018, 809, 836, 886, 896, 1089, 1728, 937, 835, 749, 1091, 1353, 1125, 696, 1260, 945, 916, 818, 883, 1037, 749, 824, 878, 1254, 983, 899, 855, 970, 984, 654, 998, 935, 938, 1076, 870, 997, 762, 1063, 813, 877, 681, 870, 1071, 840, 892, 952, 932, 805, 1029, 954, 966, 951, 827]\n"
     ]
    }
   ],
   "source": [
    "print(list(pitcherElos.values()))"
   ]
  },
  {
   "cell_type": "code",
   "execution_count": 14,
   "metadata": {},
   "outputs": [],
   "source": [
    "# Create dictionaries to convert player names and ids\n",
    "IDtoName = {}\n",
    "NametoID = {}\n",
    "# Get all the unique players\n",
    "temp = Outcomes[[\"player_name\", \"pitcher\"]].groupby(by = \"pitcher\", as_index = False).first()\n",
    "\n",
    "for i in range(len(temp)):\n",
    "    IDtoName[temp[\"pitcher\"].iloc[i]] = temp[\"player_name\"].iloc[i]\n",
    "    NametoID[temp[\"player_name\"].iloc[i]] = temp[\"pitcher\"].iloc[i]"
   ]
  },
  {
   "cell_type": "code",
   "execution_count": 13,
   "metadata": {},
   "outputs": [],
   "source": [
    "# Create a dictionary to convert the player ID's to names\n",
    "def PlayerIDtoName(id):\n",
    "    return(IDtoName[id])\n",
    "\n",
    "# Create a function to convert player's name to ID\n",
    "def PlayerNametoID(name):\n",
    "    return(NametoID[name])"
   ]
  },
  {
   "cell_type": "code",
   "execution_count": 100,
   "metadata": {},
   "outputs": [],
   "source": [
    "def PredictWinner(pitcherID, batterID):\n",
    "    # Get the elos of both players\n",
    "    probPWins = ProbPitcherWins(pitcherID, batterID)\n",
    "    print(\"The probability that the pitcher wins is\", probPWins)\n",
    "    \n",
    "    # Find the actual historical data on who won the at-bat\n",
    "    histData = histResults[(pitcherID, batterID)]\n",
    "    percentPWon = histData[0] / np.sum(histData)\n",
    "    print(\"The percentage of at-bat appearances the pitcher won is\", percentPWon)"
   ]
  },
  {
   "cell_type": "code",
   "execution_count": 101,
   "metadata": {},
   "outputs": [
    {
     "name": "stdout",
     "output_type": "stream",
     "text": [
      "The probability that the pitcher wins is 0.8576633185538569\n",
      "The percentage of at-bat appearances the pitcher won is 0.6666666666666666\n",
      "The probability that the pitcher wins is 0.8065275228171078\n",
      "The percentage of at-bat appearances the pitcher won is 0.6666666666666666\n",
      "The probability that the pitcher wins is 0.013310080776597268\n",
      "The percentage of at-bat appearances the pitcher won is 0.8333333333333334\n"
     ]
    }
   ],
   "source": [
    "PredictWinner(433587.0, 134181.0)\n",
    "PredictWinner(592811.0, 134181.0)\n",
    "PredictWinner(543037.0, 134181.0)"
   ]
  },
  {
   "cell_type": "code",
   "execution_count": 107,
   "metadata": {
    "scrolled": false
   },
   "outputs": [
    {
     "data": {
      "text/plain": [
       "(array([ 19.,  85., 163.,  79.,  28.,   8.,   4.,   1.,   3.,   2.]),\n",
       " array([ 580. ,  727.4,  874.8, 1022.2, 1169.6, 1317. , 1464.4, 1611.8,\n",
       "        1759.2, 1906.6, 2054. ]),\n",
       " <a list of 10 Patch objects>)"
      ]
     },
     "execution_count": 107,
     "metadata": {},
     "output_type": "execute_result"
    },
    {
     "data": {
      "image/png": "[encoded data removed]",
      "text/plain": [
       "<Figure size 864x576 with 2 Axes>"
      ]
     },
     "metadata": {
      "needs_background": "light"
     },
     "output_type": "display_data"
    }
   ],
   "source": [
    "fig, ax = plt.subplots(1, 2, figsize = (12, 8))\n",
    "ax[0].hist(batterElos.values())\n",
    "ax[1].hist(pitcherElos.values())"
   ]
  },
  {
   "cell_type": "code",
   "execution_count": 111,
   "metadata": {},
   "outputs": [
    {
     "data": {
      "text/plain": [
       "(array([  6.,  17.,  56., 124., 109.,  50.,  19.,   5.,   2.,   4.]),\n",
       " array([6.3630281 , 6.48947973, 6.61593136, 6.74238299, 6.86883462,\n",
       "        6.99528625, 7.12173788, 7.2481895 , 7.37464113, 7.50109276,\n",
       "        7.62754439]),\n",
       " <a list of 10 Patch objects>)"
      ]
     },
     "execution_count": 111,
     "metadata": {},
     "output_type": "execute_result"
    },
    {
     "data": {
      "image/png": "[encoded data removed]",
      "text/plain": [
       "<Figure size 864x576 with 2 Axes>"
      ]
     },
     "metadata": {
      "needs_background": "light"
     },
     "output_type": "display_data"
    }
   ],
   "source": [
    "fig, ax = plt.subplots(1, 2, figsize = (12, 8))\n",
    "ax[0].hist(np.log(list(batterElos.values())))\n",
    "ax[1].hist(np.log(list(pitcherElos.values())))"
   ]
  },
  {
   "cell_type": "code",
   "execution_count": 116,
   "metadata": {},
   "outputs": [
    {
     "data": {
      "text/plain": [
       "(array([ 19.,  85., 163.,  79.,  28.,   8.,   4.,   1.,   3.,   2.]),\n",
       " array([-0.01086051, -0.00688108, -0.00290164,  0.00107779,  0.00505723,\n",
       "         0.00903666,  0.0130161 ,  0.01699554,  0.02097497,  0.02495441,\n",
       "         0.02893384]),\n",
       " <a list of 10 Patch objects>)"
      ]
     },
     "execution_count": 116,
     "metadata": {},
     "output_type": "execute_result"
    },
    {
     "data": {
      "image/png": "[encoded data removed]",
      "text/plain": [
       "<Figure size 864x576 with 2 Axes>"
      ]
     },
     "metadata": {
      "needs_background": "light"
     },
     "output_type": "display_data"
    }
   ],
   "source": [
    "bats = list(batterElos.values())\n",
    "meanBats = np.mean(bats)\n",
    "varBats = np.var(bats)\n",
    "newBats = (bats - meanBats) / varBats\n",
    "\n",
    "pits = list(pitcherElos.values())\n",
    "meanPits = np.mean(pits)\n",
    "varPits = np.var(pits)\n",
    "newPits = (pits - meanPits) / varPits\n",
    "\n",
    "fig, ax = plt.subplots(1, 2, figsize = (12, 8))\n",
    "ax[0].hist(newBats)\n",
    "ax[1].hist(newPits)"
   ]
  },
  {
   "cell_type": "code",
   "execution_count": null,
   "metadata": {},
   "outputs": [],
   "source": []
  }
 ],
 "metadata": {
  "kernelspec": {
   "display_name": "Python 3",
   "language": "python",
   "name": "python3"
  },
  "language_info": {
   "codemirror_mode": {
    "name": "ipython",
    "version": 3
   },
   "file_extension": ".py",
   "mimetype": "text/x-python",
   "name": "python",
   "nbconvert_exporter": "python",
   "pygments_lexer": "ipython3",
   "version": "3.6.3"
  }
 },
 "nbformat": 4,
 "nbformat_minor": 2
}
